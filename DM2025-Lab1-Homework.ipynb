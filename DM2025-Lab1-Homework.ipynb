{
 "cells": [
  {
   "cell_type": "markdown",
   "metadata": {},
   "source": [
    "### Student Information\n",
    "Name:周駿傑\n",
    "\n",
    "Student ID:114164518\n",
    "\n",
    "GitHub ID:143371193+Ha1ion@users.noreply.github.com\n",
    "\n",
    "URL : https://github.com/Ha1ion/DM2025-Lab1-Exercise"
   ]
  },
  {
   "cell_type": "markdown",
   "metadata": {},
   "source": [
    "---"
   ]
  },
  {
   "cell_type": "markdown",
   "metadata": {},
   "source": [
    "### Instructions"
   ]
  },
  {
   "cell_type": "markdown",
   "metadata": {},
   "source": [
    "### First Phase Submission"
   ]
  },
  {
   "cell_type": "markdown",
   "metadata": {},
   "source": [
    "1. First: do the **take home** exercises in the [DM2025-Lab1-Master](https://github.com/leoson-wu/DM2025-Lab1-Exercise/blob/main/DM2025-Lab1-Master.ipynb) that considered as **phase 1 (from exercise 1 to exercise 15)**. You can answer in the master file. __This part is worth 10% of your grade.__\n",
    "\n",
    "\n",
    "2. Second: follow the same process from the [DM2025-Lab1-Master](https://github.com/leoson-wu/DM2025-Lab1-Exercise/blob/main/DM2025-Lab1-Master.ipynb) on **the new dataset** up **until phase 1**. You can skip some exercises if you think some steps are not necessary. However main exercises should be completed. You don't need to explain all details as we did (some **minimal comments** explaining your code are useful though).  __This part is worth 15% of your grade.__\n",
    "    -  Use [the new dataset](https://github.com/leoson-wu/DM2025-Lab1-Exercise/blob/main/newdataset/Reddit-stock-sentiment.csv). The dataset contains a 16 columns including 'text' and 'label', with the sentiment labels being: 1.0 is positive, 0.0 is neutral and -1.0 is negative. You can simplify the dataset and use only the columns that you think are necessary. \n",
    "    \n",
    "    - You are allowed to use and modify the `helper` functions in the folder of the first lab session (notice they may need modification) or create your own.\n",
    "    - Use this file to complete the homework from the second part. Make sure the code can be run from the beginning till the end and has all the needed output.\n",
    "\n",
    "\n",
    "3. Third: please attempt the following tasks on **the new dataset**. __This part is worth 10% of your grade.__\n",
    "    - Generate meaningful **new data visualizations**. Refer to online resources and the Data Mining textbook for inspiration and ideas. \n",
    "    \n",
    "\n",
    "\n",
    "4. Fourth: It's hard for us to follow if your code is messy, so please **tidy up your notebook** and **add minimal comments where needed**. __This part is worth 5% of your grade.__\n",
    "\n",
    "You can submit your homework following these guidelines: [DM2025-Lab1-announcement](https://github.com/leoson-wu/DM2025-Lab1-Announcement/blob/main/README.md). Make sure to commit and save your changes to your repository __BEFORE the deadline (September 28th 11:59 pm, Sunday)__. "
   ]
  },
  {
   "cell_type": "markdown",
   "metadata": {},
   "source": [
    "### Second Phase Submission "
   ]
  },
  {
   "cell_type": "markdown",
   "metadata": {},
   "source": [
    "**You can keep the answer for phase 1 for easier running and update the phase 2 on the same page.**\n",
    "\n",
    "1. First: Continue doing the **take home** exercises in the [DM2025-Lab1-Master](https://github.com/leoson-wu/DM2025-Lab1-Exercise/blob/main/DM2025-Lab1-Master.ipynb) for **phase 2, starting from Finding frequent patterns**. Use the same master(.ipynb) file. Answer from phase 1 will not be considered at this stage. You can answer in the master file. __This part is worth 10% of your grade.__\n",
    "\n",
    "\n",
    "2. Second: Continue from first phase and do the same process from the [DM2025-Lab1-Master](https://github.com/leoson-wu/DM2025-Lab1-Exercise/blob/main/DM2025-Lab1-Master.ipynb) on **the new dataset** for phase 2, starting from Finding frequent pattern. You can skip some exercises if you think some steps are not necessary. However main exercises should be completed. You don't need to explain all details as we did (some **minimal comments** explaining your code are useful though).  __This part is worth 15% of your grade.__\n",
    "    - Continue using this file to complete the homework from the second part. Make sure the code can be run from the beginning till the end and has all the needed output. Use the same new dataset as in phase 1.\n",
    "    \n",
    "    - You are allowed to use and modify the `helper` functions in the folder of the first lab session (notice they may need modification) or create your own.\n",
    "\n",
    "3. Third: please attempt the following tasks on **the new dataset**. __This part is worth 20% of your grade.__\n",
    "    - Use this file to answer.\n",
    "    - Generate **TF-IDF features** from the tokens of each text. This will generating a document matrix, however, the weights will be computed differently (using the TF-IDF value of each word per document as opposed to the word frequency).  Refer to this Scikit-learn [guide](http://scikit-learn.org/stable/modules/generated/sklearn.feature_extraction.text.TfidfVectorizer.html) .\n",
    "    - Implement a simple **Naive Bayes classifier** that automatically classifies the records into their categories. Use both the TF-IDF features and word frequency features to build two seperate classifiers. Note that for the TF-IDF features you might need to use other type of NB classifier different than the one in the Master Notebook. Comment on the differences and when using augmentation with feature pattern.  Refer to this [article](https://hub.packtpub.com/implementing-3-naive-bayes-classifiers-in-scikit-learn/).\n",
    "\n",
    "\n",
    "4. Fourth: In the lab, we applied each step really quickly just to illustrate how to work with your dataset. There are somethings that are not ideal or the most efficient/meaningful. Each dataset can be handled differently as well. What are those inefficent parts you noticed? How can you improve the Data preprocessing for these specific datasets? __This part is worth 10% of your grade.__\n",
    "\n",
    "\n",
    "5. Fifth: It's hard for us to follow if your code is messy, so please **tidy up your notebook** and **add minimal comments where needed**. __This part is worth 5% of your grade.__\n",
    "\n",
    "\n",
    "You can submit your homework following these guidelines: [DM2025-Lab1-announcement](https://github.com/leoson-wu/DM2025-Lab1-Announcement/blob/main/README.md). Make sure to commit and save your changes to your repository __BEFORE the deadline (October 19th 11:59 pm, Sunday)__. "
   ]
  },
  {
   "cell_type": "markdown",
   "metadata": {},
   "source": [
    "# Phase 1"
   ]
  },
  {
   "cell_type": "markdown",
   "metadata": {},
   "source": [
    "## 步驟流程說明:\n",
    "   * 步驟 1: 載入與清理資料\n",
    "   * 步驟 2: 探索性資料分析 (EDA)\n",
    "   * 步驟 3: 建立文件-詞彙矩陣\n",
    "   * 步驟 4: 詞頻視覺化 (長尾分佈)\n",
    "   * 步驟 5: 降維與互動式視覺化\n",
    "  準備資料 (步驟1) → 宏觀觀察 (步驟2) → 數據量化 (步驟3) → 深入分析    \n",
    "  (步驟4 & 5)"
   ]
  },
  {
   "cell_type": "markdown",
   "metadata": {},
   "source": [
    "## 步驟 0: 環境設定與函式庫載入"
   ]
  },
  {
   "cell_type": "code",
   "execution_count": 162,
   "metadata": {},
   "outputs": [
    {
     "name": "stdout",
     "output_type": "stream",
     "text": [
      "環境與函式庫準備完成。\n",
      "--------------------------------------------------\n"
     ]
    }
   ],
   "source": [
    "### Begin Assignment Here\n",
    "import pandas as pd\n",
    "import numpy as np\n",
    "import math\n",
    "import re\n",
    "import nltk\n",
    "from nltk.corpus import stopwords\n",
    "from sklearn.feature_extraction.text import CountVectorizer\n",
    "import matplotlib.pyplot as plt\n",
    "import seaborn as sns\n",
    "import umap\n",
    "import plotly.express as px\n",
    "\n",
    "try:\n",
    "    plt.rcParams['font.sans-serif'] = ['Microsoft JhengHei']\n",
    "    plt.rcParams['axes.unicode_minus'] = False\n",
    "except Exception as e:\n",
    "    print(f\"警告：中文字體設定失敗，圖表標題可能無法正常顯示。錯誤：{e}\")\n",
    "try:\n",
    "    STOPWORDS = set(stopwords.words('english'))\n",
    "except LookupError:\n",
    "    nltk.download('stopwords')\n",
    "    STOPWORDS = set(stopwords.words('english'))\n",
    "\n",
    "print(\"環境與函式庫準備完成。\")\n",
    "print(\"-\" * 50)"
   ]
  },
  {
   "cell_type": "markdown",
   "metadata": {},
   "source": [
    "## 步驟 1: 載入、清理與準備新資料集"
   ]
  },
  {
   "cell_type": "code",
   "execution_count": 166,
   "metadata": {},
   "outputs": [
    {
     "name": "stdout",
     "output_type": "stream",
     "text": [
      "步驟 1: 載入與清理資料...\n",
      "成功載入 'Reddit-stock-sentiment.csv'\n",
      "資料清理完成，剩餘資料筆數: 824\n",
      "資料集預覽：\n",
      "                                                text  label category_name  \\\n",
      "0                                   Calls on retards   -1.0            負面   \n",
      "1  Stunt as in like why did they even make a big ...    0.0            中性   \n",
      "2                  Seeing lots of red in the ticker.    0.0            中性   \n",
      "3  Vision Marine Technologies Inc. is rewriting t...    1.0            正面   \n",
      "4                           He didn’t say thank you.   -1.0            負面   \n",
      "\n",
      "                                        cleaned_text  \n",
      "0                                   calls on retards  \n",
      "1  stunt as in like why did they even make a big ...  \n",
      "2                   seeing lots of red in the ticker  \n",
      "3  vision marine technologies inc is rewriting th...  \n",
      "4                             he didnt say thank you  \n",
      "--------------------------------------------------\n"
     ]
    }
   ],
   "source": [
    "print(\"步驟 1: 載入與清理資料...\")\n",
    "\n",
    "# 載入資料集\n",
    "try:\n",
    "    df = pd.read_csv('newdataset/Reddit-stock-sentiment.csv')\n",
    "    print(\"成功載入 'Reddit-stock-sentiment.csv'\")\n",
    "except FileNotFoundError:\n",
    "    print(\"錯誤：找不到 'newdataset/Reddit-stock-sentiment.csv'，請確認檔案路徑。\")\n",
    "    # 如果找不到檔案，則停止執行\n",
    "    exit()\n",
    "\n",
    "# 選取必要欄位並重新命名\n",
    "df = df[['text', 'label']].copy()\n",
    "df.rename(columns={'Text': 'text', 'Label': 'label'}, inplace=True)\n",
    "\n",
    "df.dropna(inplace=True)\n",
    "df.drop_duplicates(inplace=True)\n",
    "\n",
    "# 新增一個可讀的類別名稱欄位\n",
    "label_map = {1: '正面', 0: '中性', -1: '負面'}\n",
    "df['category_name'] = df['label'].map(label_map)\n",
    "\n",
    "def clean_text(text):\n",
    "    text = re.sub(r'http\\S+', '', text)  \n",
    "    text = re.sub(r'[^a-zA-Z\\s]', '', text) \n",
    "    text = text.lower() # 轉為小寫\n",
    "    return text\n",
    "\n",
    "df['cleaned_text'] = df['text'].apply(clean_text)\n",
    "\n",
    "print(f\"資料清理完成，剩餘資料筆數: {len(df)}\")\n",
    "print(\"資料集預覽：\")\n",
    "print(df.head())\n",
    "print(\"-\" * 50)\n"
   ]
  },
  {
   "cell_type": "markdown",
   "metadata": {},
   "source": [
    "## 步驟 1.1: 資料取樣 (Data Sampling)"
   ]
  },
  {
   "cell_type": "code",
   "execution_count": null,
   "metadata": {},
   "outputs": [],
   "source": [
    "print(\"步驟 1.1: 進行資料取樣...\")\n",
    "\n",
    "# 設定取樣率，例如 50%\n",
    "sampling_rate = 0.5\n",
    "df_sampled = df.sample(frac=sampling_rate, random_state=42)\n",
    "\n",
    "print(f\"原始資料筆數: {len(df)}\")\n",
    "print(f\"取樣後資料筆數 ({sampling_rate*100}%): {len(df_sampled)}\")\n",
    "print(\"資料取樣完成。後續步驟將使用取樣後的資料集。\")\n",
    "print(\"-\" * 50)\n",
    "\n",
    "# 為了讓後續的程式碼不用修改，我們直接用取樣後的資料覆蓋原來的 DataFrame\n",
    "df = df_sampled.copy()"
   ]
  },
  {
   "cell_type": "markdown",
   "metadata": {},
   "source": [
    "## 步驟 1.2: 特徵建立 (為頻繁模式探勘建立交易資料庫)"
   ]
  },
  {
   "cell_type": "code",
   "execution_count": null,
   "metadata": {},
   "outputs": [],
   "source": [
    "from helpers.text_analysis import clean_text_for_fpm\n",
    "\n",
    "print(\"步驟 1.2: 建立交易資料庫...\")\n",
    "\n",
    "# 對取樣後的資料集的 'cleaned_text' 欄位進行處理\n",
    "# clean_text_for_fpm 函數會進行分詞、移除停用詞等操作\n",
    "transactions = df['cleaned_text'].apply(clean_text_for_fpm)\n",
    "\n",
    "# 將結果儲存為交易資料庫檔案，每行一個交易，項目以逗號分隔\n",
    "output_filename = 'td_freq_db_soc_religion_christian.csv'\n",
    "with open(output_filename, 'w', encoding='utf-8') as f:\n",
    "    for transaction in transactions:\n",
    "        if transaction: # 確保交易不是空的\n",
    "            f.write(','.join(transaction) + '\\n')\n",
    "\n",
    "print(f\"交易資料庫建立完成，並儲存於 '{output_filename}'\")\n",
    "print(\"交易資料庫預覽 (前5筆):\")\n",
    "for i, t in enumerate(transactions.head()):\n",
    "    print(f\"  交易 {i+1}: {t}\")\n",
    "print(\"-\" * 50)"
   ]
  },
  {
   "cell_type": "markdown",
   "metadata": {},
   "source": [
    "## 步驟 2: 探索性資料分析 (EDA) - (新的視覺化圖表)"
   ]
  },
  {
   "cell_type": "code",
   "execution_count": 167,
   "metadata": {},
   "outputs": [
    {
     "name": "stdout",
     "output_type": "stream",
     "text": [
      "步驟 2: 進行探索性資料分析...\n"
     ]
    },
    {
     "name": "stderr",
     "output_type": "stream",
     "text": [
      "C:\\Users\\user\\AppData\\Local\\Temp\\ipykernel_84\\1665907323.py:5: FutureWarning:\n",
      "\n",
      "\n",
      "\n",
      "Passing `palette` without assigning `hue` is deprecated and will be removed in v0.14.0. Assign the `x` variable to `hue` and set `legend=False` for the same effect.\n",
      "\n",
      "\n"
     ]
    },
    {
     "data": {
      "image/png": "[encoded data removed]",
      "text/plain": [
       "<Figure size 800x600 with 1 Axes>"
      ]
     },
     "metadata": {},
     "output_type": "display_data"
    },
    {
     "data": {
      "image/png": "[encoded data removed]",
      "text/plain": [
       "<Figure size 1200x700 with 1 Axes>"
      ]
     },
     "metadata": {},
     "output_type": "display_data"
    },
    {
     "name": "stdout",
     "output_type": "stream",
     "text": [
      "--------------------------------------------------\n"
     ]
    }
   ],
   "source": [
    "print(\"步驟 2: 進行探索性資料分析...\")\n",
    "\n",
    "# 視覺化圖表 1: 各類別文章數量分佈\n",
    "plt.figure(figsize=(8, 6))\n",
    "sns.countplot(x='category_name', data=df, order=['正面', '中性', '負面'], palette='viridis')\n",
    "plt.title('文章情緒類別分佈', fontsize=16)\n",
    "plt.xlabel('情緒類別', fontsize=12)\n",
    "plt.ylabel('文章數量', fontsize=12)\n",
    "plt.show()\n",
    "\n",
    "# 視覺化圖表 2: 各類別文章長度分佈\n",
    "df['text_length'] = df['cleaned_text'].str.len()\n",
    "plt.figure(figsize=(12, 7))\n",
    "sns.histplot(data=df, x='text_length', hue='category_name', multiple='stack', bins=50, palette='viridis')\n",
    "plt.title('各類別文章長度分佈', fontsize=16)\n",
    "plt.xlabel('文章長度 (字元數)', fontsize=12)\n",
    "plt.ylabel('文章數量', fontsize=12)\n",
    "plt.xlim(0, 1000) \n",
    "plt.show()\n",
    "print(\"-\" * 50)"
   ]
  },
  {
   "cell_type": "markdown",
   "metadata": {},
   "source": [
    "練習 1-8已被包含在上述流程\n",
    "\n",
    "練習 1 (印出前三筆紀錄):\n",
    "\n",
    "練習 2 & 3 (Pandas 查詢技巧):\n",
    "\n",
    "練習 4 & 5 (處理缺失值):\n",
    "\n",
    "練習 6, 7, 8 (資料抽樣與比較):\n",
    "\n",
    "練習 9 (使用 analyzer 分析單筆紀錄):"
   ]
  },
  {
   "cell_type": "markdown",
   "metadata": {},
   "source": [
    "## 步驟 3: 建立文件-詞彙矩陣 (對應練習 9-13)"
   ]
  },
  {
   "cell_type": "code",
   "execution_count": 168,
   "metadata": {},
   "outputs": [
    {
     "name": "stdout",
     "output_type": "stream",
     "text": [
      "步驟 3: 建立文件-詞彙矩陣...\n",
      "過濾後的詞彙庫大小: 176 個詞彙\n",
      "文件-詞彙矩陣維度: (824, 176)\n",
      "--------------------------------------------------\n"
     ]
    }
   ],
   "source": [
    "print(\"步驟 3: 建立文件-詞彙矩陣...\")\n",
    "\n",
    "# 使用 CountVectorizer 進行特徵工程\n",
    "# 練習13的z方法:過濾掉極端頻率的詞彙\n",
    "vectorizer = CountVectorizer(\n",
    "    stop_words=list(STOPWORDS),\n",
    "    min_df=10,        # 一個詞至少要在 10 份文件中出現\n",
    "    max_df=0.7,      # 一個詞最多只能在 70% 的文件中出現\n",
    "    ngram_range=(1, 1) # 只考慮單一詞彙\n",
    ")\n",
    "\n",
    "X_counts = vectorizer.fit_transform(df['cleaned_text'])\n",
    "terms = vectorizer.get_feature_names_out()\n",
    "\n",
    "print(f\"過濾後的詞彙庫大小: {len(terms)} 個詞彙\")\n",
    "print(f\"文件-詞彙矩陣維度: {X_counts.shape}\")\n",
    "print(\"-\" * 50)"
   ]
  },
  {
   "cell_type": "markdown",
   "metadata": {},
   "source": [
    "## 步驟 4: 詞頻視覺化 (對應練習 14-15)"
   ]
  },
  {
   "cell_type": "code",
   "execution_count": 169,
   "metadata": {},
   "outputs": [
    {
     "name": "stdout",
     "output_type": "stream",
     "text": [
      "步驟 4: 進行詞頻視覺化...\n"
     ]
    },
    {
     "data": {
      "image/png": "[encoded data removed]",
      "text/plain": [
       "<Figure size 1000x600 with 1 Axes>"
      ]
     },
     "metadata": {},
     "output_type": "display_data"
    }
   ],
   "source": [
    "print(\"步驟 4: 進行詞頻視覺化...\")\n",
    "\n",
    "term_frequencies = np.asarray(X_counts.sum(axis=0)).flatten()\n",
    "freq_df = pd.DataFrame({'term': terms, 'frequency': term_frequencies})\n",
    "sorted_freq_df = freq_df.sort_values(by='frequency', ascending=False)\n",
    "\n",
    "# 視覺化  (練習 14): 長尾分佈曲線\n",
    "plt.figure(figsize=(10, 6))\n",
    "plt.plot(range(len(sorted_freq_df)), sorted_freq_df['frequency'])\n",
    "plt.yscale('log')\n",
    "plt.title('詞彙頻率的長尾分佈', fontsize=16)\n",
    "plt.xlabel('詞彙排名', fontsize=12)\n",
    "plt.ylabel('總出現次數 (對數尺度)', fontsize=12)\n",
    "plt.grid(True)\n",
    "plt.show()"
   ]
  },
  {
   "cell_type": "markdown",
   "metadata": {},
   "source": [
    "## 步驟 5: 降維與互動式視覺化 (對應練習11-12)"
   ]
  },
  {
   "cell_type": "code",
   "execution_count": 170,
   "metadata": {},
   "outputs": [
    {
     "name": "stdout",
     "output_type": "stream",
     "text": [
      "步驟 5: 使用 UMAP 降維與 Plotly 互動式視覺化...\n"
     ]
    },
    {
     "name": "stderr",
     "output_type": "stream",
     "text": [
      "C:\\nthu\\2025_DM_Lab1\\DM2025-Lab1-Exercise\\.venv\\Lib\\site-packages\\umap\\umap_.py:1952: UserWarning:\n",
      "\n",
      "n_jobs value 1 overridden to 1 by setting random_state. Use no seed for parallelism.\n",
      "\n"
     ]
    },
    {
     "data": {
      "application/vnd.plotly.v1+json": {
       "config": {
        "plotlyServerURL": "https://plot.ly"
       },
       "data": [
        {
         "customdata": [
          [
           "Calls on retards..."
          ],
          [
           "He didn’t say thank you...."
          ],
          [
           "Trump will respond to china increasing their tariffs. Trump is looking to fire Jerome Powell. Earnin..."
          ],
          [
           "Honestly let the economy burn, maybe people will learn..."
          ],
          [
           "Jesus Christ..."
          ],
          [
           "Exactly this. Trump will blink first because, in the end, he will have to answer to his people for h..."
          ],
          [
           "Trump and dump..."
          ],
          [
           "I think we are past the numbers. Just assume folks world wide are now looking for another safe place..."
          ],
          [
           "Nooo dont go down its smug bull day..."
          ],
          [
           "I feel like these HFs took the word \"retard\" thrown around at WSB too literally. Now they are trying..."
          ],
          [
           "You see, Target, pissing off a good chunk of your loyal customer base wasn't a good idea...."
          ],
          [
           "China will never lose a trade war. Delusional old guy from Queens never understood that...."
          ],
          [
           "> Still seems like an awful investment\r\n\r\nThat sentiment, above everything else happening, is what h..."
          ],
          [
           "Xi is calm and sure-footed in his response to Trump, while Trump is irrational and makes quick decis..."
          ],
          [
           "If the \"rule of law\" wasn't a total joke, I might feel badly about it-- but it seems like nobody who..."
          ],
          [
           ">I did some digging and found they had a government contract listed on USASpending in 2021, so they’..."
          ],
          [
           "My point is he knows what he is doing. I also think he is an idiot, but to chalk his actions up to s..."
          ],
          [
           "You know what, as an American. I hope china comes out on top to teach him a lesson. Idgaf anymore..."
          ],
          [
           "He didn't even pretend to put his money in a blind trust this time, did he?..."
          ],
          [
           "Consumer sentiment survey, lower than expected..."
          ],
          [
           "Comedy gold :))..."
          ],
          [
           "That's called winning!   /s..."
          ],
          [
           "The funny part is that Elmo has called Navarro Trump’s tariff “expert” who is such an expert he made..."
          ],
          [
           "Look,  the USA somehow thought a second term for that fool was a good idea.  This was not rational, ..."
          ],
          [
           "Americans are so brain dead lol..."
          ],
          [
           "If Trump is allowed to control the fed we will be cooked. Hello hyperinflation..."
          ],
          [
           "His plan is \"fuck you, be less poor\"..."
          ],
          [
           "Retarded Ball Z going on over here..."
          ],
          [
           "But tariffs have not been in affect for 10 weeks.  I think tariffs getting cut will only make the de..."
          ],
          [
           "1.  Make middle class homeless by causing hyperinflation and destroying the economy\r\n\r\n2.  Make home..."
          ],
          [
           "Japan and the UK are the two largest holders of T-Bills, IIRC...."
          ],
          [
           "200k loss in a month.. haha..."
          ],
          [
           "Trump surrounded himself with people telling him what he wants to hear. He's the one doing the filte..."
          ],
          [
           "Do we have a copy of trump’s kindergarten graduation certificate? Ideally the long form version...."
          ],
          [
           "My personal favorite part of the graph is that last spike that almost brought you back to breakeven ..."
          ],
          [
           "FELON..."
          ],
          [
           "He will pardon them all. Just crazy someone can have so much power after so much mess..."
          ],
          [
           "Trump is playing chicken.. but he's driving a Smart car and Xi is driving a semi..."
          ],
          [
           "China to the fucking moon. \r\n\r\nFuck that clown...."
          ],
          [
           "China is aggressor & US allies siding with China would remembered...."
          ],
          [
           "Trump is like the annoying little brother (with an extremely high ego)... Throwing tantrums to get h..."
          ],
          [
           "Disgusted ...."
          ],
          [
           "Anyone else buying more GME today to fuck these guys over even more?..."
          ],
          [
           "We're too conditioned for instant gratification. Trump's M.O. is getting things done NOW - FIXED ON ..."
          ],
          [
           "Nope, even if he drops all tariffs the loss of credibility and confidence will still be there. The o..."
          ],
          [
           "Why is he signing his tweets like he's quoting himself? Boomers bro lmao..."
          ],
          [
           "You telling me dumping your allies and starting a trade war with everyone is not a sound strategy..."
          ],
          [
           "Imagine having the dollar backed by Trump coin. The economy and coin prices crash. Making the dollar..."
          ],
          [
           "so y'all aren't exactly happy with the shorts..."
          ],
          [
           "He reached this level only because of his inheritance. He consistently ruins everything he touches. ..."
          ],
          [
           "Isnt that economics? What trump says have massive impact on the economy hence the stock market react..."
          ],
          [
           "Hello! How well do you know international trade? This whole tariff debacle is about goods, because t..."
          ],
          [
           "This is not the subreddit for useful and accurate financial information, especially this week..."
          ],
          [
           "Trump doesn't have the brain power for any sort of strategy. It's all id...."
          ],
          [
           "Yeah, like has anyone realized what happens when the dollar is attacked? It doesn't really matter wh..."
          ],
          [
           "China raised tariffs even MORE a few hours ago. Markets green pre market. Fuck yo calls. Fuck yo put..."
          ],
          [
           "My concern isn’t the near term 30% drop, it’s the after effect the tariff talk will have on the econ..."
          ],
          [
           "I still cannot believe that I didn't sell the puts during Monday drop...."
          ],
          [
           "This week CPI and PPI both came below expectations.\r\n\r\nGood job JPow's quant guy!..."
          ],
          [
           "Well, they wanted to devalue USD, so now they got it... \r\n\r\nBut geniuses didn't realize it's going t..."
          ],
          [
           "My resume isn't even read by companies anymore, it's over...."
          ],
          [
           "This man literally just had to do nothing, that's all. And he and his dumbass party couldn't even do..."
          ],
          [
           "Insanity!..."
          ],
          [
           "This is what all of the “lunatic left” has been warning about for 8 years. Trust in democracy has be..."
          ],
          [
           "Just waiting for a bank to announce they are deep in some  \"Strategic Harmonized International Tarif..."
          ],
          [
           "Agolf Shittler or tangerine toddler...."
          ],
          [
           "Criminals belong in jail, or better...."
          ],
          [
           "I wouldn't call it denial but not knowing where to invest. Physical assets are the safest investment..."
          ],
          [
           "China will fold and Trump will get the W he wants...."
          ],
          [
           "Calling it anything but a trade embargo at this point is PR spin...."
          ],
          [
           "Now imagine the state of the people that voted for him because he's a genius to them. It's unbelieva..."
          ],
          [
           "ChatGPT model is not build on 2025 data, so, no, ChatGPT is not giving the results based on what the..."
          ],
          [
           "Don’t buy. Trash after Q3 report..."
          ],
          [
           "Depression is already priced in...."
          ],
          [
           "Not unexpected. My expectation whenever a Republican is in the White House is for some disaster to h..."
          ],
          [
           "Who is the dumbass not asking for second opinions, opposing views and weighing the pros and cons? Th..."
          ],
          [
           "That's not really a question now, is it.\r\n\r\nTrump is the epitome of the Republican Party, the most h..."
          ],
          [
           "check out the risk free capital gains the key people make and then what $ they put up out of pocket ..."
          ],
          [
           "\"hmm. Trade War with China sounds good.\"\r\n\r\n\" but Sir, this could bolster Xi politically at a time w..."
          ],
          [
           "The US has made it clear that it has no allies. Only self-interests. If that is the rule of the game..."
          ],
          [
           "I imagine the entire Trump admin gets out of a clown car..."
          ],
          [
           "And himself along maybe? At least nobody can blame him for having a fake tan after that...."
          ],
          [
           "That’s what you get when u bet against America..."
          ],
          [
           "Let him take it all and much more. I want his grift to be so blatant and terrible that it's no longe..."
          ],
          [
           "I’m still down 24% from recent highs. I wonder who I can blame for this… gays?..."
          ],
          [
           "What market manipulation will he do today?..."
          ],
          [
           "Does it matter how I feel?..."
          ],
          [
           "That would make things even worse..."
          ],
          [
           "Mf signs his texts. Good grief..."
          ],
          [
           "I just went and looked at SLV after seeing some stuff and I was like “Who the FUCK would believe thi..."
          ],
          [
           "Unexpected? Did you not see his first term? This is like that but on roids...."
          ],
          [
           "I suppose that's what happens when your companies lie, cheat and steal. When you steal IP from liter..."
          ],
          [
           "He doesn't have the cards..."
          ],
          [
           "I’m tired. The US is a goddamn joke...."
          ],
          [
           "It felt better to say my president was black and my Lambo was blue...."
          ],
          [
           "Wild that people are praising China, and talking about how great they are. They're great if you're n..."
          ],
          [
           "The Orange Idiot poked the Dragon and now is about to get his face burned off...."
          ],
          [
           "Not great Bob..."
          ],
          [
           "All of Xi’s cadres have worked for decades in rural villages, industries, and universities. \r\n\r\nGett..."
          ],
          [
           "i'm in a state that trump has absolutely 0% chance of winning and i did vote for him anyway to show ..."
          ],
          [
           "Brother no..."
          ],
          [
           "When you realize it is happening, it will be too late to do something about it unfortunately.\r\n\r\nBtw..."
          ],
          [
           "His Financial policy is based off a fictional book. His advisor just use ChatGPT or GROK for their p..."
          ],
          [
           "Bullshit..."
          ],
          [
           "Are these pumps n dump or are these things we should get?..."
          ],
          [
           "If this goes through and he is not replaced with someone reasonable I will be reducing my holdings o..."
          ],
          [
           "You can evaluate the price of a company by looking only at its stock price?\r\n\r\nCommercial, defense, ..."
          ],
          [
           "Since I posted that comment I’m another 4% down! When will it end!..."
          ],
          [
           "Sooo 3 cent is crashing huh?..."
          ],
          [
           "I caught a 3 day ban last time using retard. Fucking retard admins...."
          ],
          [
           "I know. America is fuxked and stupid...."
          ],
          [
           "Great summary. We are hosed...."
          ],
          [
           "They're not qualified advisors, they're people who will tell Trump he's right...."
          ],
          [
           "Doing well on destroying the US Economy, then sure...."
          ],
          [
           "At this moment I would trust them more than the American president...."
          ],
          [
           "What the actual fuck?..."
          ],
          [
           "Lots of food, oil and gas, which can be replaced from other sources.  Also lots of pharmaceuticals, ..."
          ],
          [
           "Went to Costco last night (it was our regular monthly trip) in northern VA and half of the paper pro..."
          ],
          [
           "Yippee..... If the US dollar goes to zero then all our stocks go to infinity ...... We're about to b..."
          ],
          [
           "And Trump just handed them this situation on a silver platter. Incredible...."
          ],
          [
           "I don’t think they will feel it for a few weeks out. They’re not smart enough. It’s going to have to..."
          ],
          [
           "Why can’t we take him out of office because he clearly lost his effing mind...."
          ],
          [
           "Pretty sad we have to read between the lines...."
          ],
          [
           "All empires fall at one point, you know trust is a fickle thing, takes a lifetime to build and you c..."
          ],
          [
           "The comparison is over used but the US is literally Germany in 1934...."
          ],
          [
           "Trump is delusional and so as his supporters. So yeah, most likely...."
          ],
          [
           "Can we go full retard?..."
          ],
          [
           "These lying felons & crooks don’t serve the American people!Sell us out complete greed!!..."
          ],
          [
           "I’m proud of you for making a P/L chart look like a retard trying to draw a square wave.\r\n\r\nSeriousl..."
          ],
          [
           "China is a neoauthoritarian state. \r\n\r\nXi Jingping will not care if the public are mad about investm..."
          ],
          [
           "Dude, the world has turned enough so that now Germany and Japan _are the good guys_!\r\n\r\n\r\nFuck knows..."
          ],
          [
           "My day trading: Watching TBBB, COIN and PLTR. Expecting these will dip after the morning coffee wear..."
          ],
          [
           "Not great bob..."
          ],
          [
           "Has anyone seen what the shorts did to KAVL!! So disgusting!!\r\n  \r\n\r\n  \r\nWorse than GME and AMC put ..."
          ],
          [
           "When you talk shit, and it’s a lie, this is the result. The orange felon acts and speaks as if it’s ..."
          ],
          [
           "# Happy reeeeeeeeeeetardations to everyone..."
          ],
          [
           "This was all easily foreseeable before the election, unfortunately most voters have zero critical th..."
          ],
          [
           "Dude. I haven’t felt this free since I went back in the closet. \r\n\r\nGod damn. You all are retarded a..."
          ],
          [
           "Money and power go together... it's sick in this context..."
          ],
          [
           "And Trump thinks what he's doing is good for the American people?? I feel sorry for my American frie..."
          ],
          [
           "I'm getting pretty yippee over here, personally, we haven't seen this type of shit since the last ti..."
          ],
          [
           "LOL The US has no allies anymore...."
          ],
          [
           "it never seems to go up even with great earnings..."
          ],
          [
           "So Japan and Canada are selling treasuries for two days (at a significant loss) and this is the end ..."
          ],
          [
           "You really expect any of them to understand a lick of economics?..."
          ],
          [
           "Trump has now completely proven China is #1.  EU is as a group #2 and the US is in quick descent.  \r..."
          ],
          [
           "China doesn’t have to do anything here.\r\n\r\nThis tariff is going to be a fucking PR and market nightm..."
          ],
          [
           "It's basically just bickering with math at this point.  The current tariffs pretty much ensure that ..."
          ],
          [
           "People will down vote you for saying what is true and what contradicts hive mind mentality. Obviousl..."
          ],
          [
           "Imo it's bullshit for another reason: why would a trade deficit lessen when the dollar gets stronger..."
          ],
          [
           "And he wants war because he wants to take over land currently inhibited by our ally’s… or *was* our ..."
          ],
          [
           "I've literally lost all my money this week...."
          ],
          [
           "Well Trump is an idiot too, so there’s that..."
          ],
          [
           "The stock market is wobbling. Big indexes like the S&P 500 and Nasdaq are down 8–11%. Small and mid-..."
          ],
          [
           "China has been preparing for this since the Opium Wars.\r\nThis isn’t just about trade or military mig..."
          ],
          [
           "Literally cannot think of a reason to buy any more than absolutely necessary at the moment. \r\n\r\nTo m..."
          ],
          [
           "Couldn't we just use a cost-effective firing squad? We don't need to be giving even more handouts to..."
          ],
          [
           "My concern is that it will give him the excuse to declare martial law, suspend the constitution and ..."
          ],
          [
           "But at the end of the day, none of them will ever want for anything (except for everything)...."
          ],
          [
           "Trump signaled that he panicked at the bond market selloff earlier this week\r\n\r\nXi is going to just ..."
          ],
          [
           "Lets get retarded in here..."
          ],
          [
           "It is Friday and no one want to hold over the weekend - expecting RED today...."
          ],
          [
           "Bro don’t try, to quote tropic thunder. He went full retard...."
          ],
          [
           "It was so blatant.  In a normal version of the US, this is exactly what the SEC would be prosecuting..."
          ],
          [
           "Inside traitor..."
          ],
          [
           "Holy hell, you morons will believe anything as long as it has Irange man Bad in it someplace. ..."
          ],
          [
           "You know who happens to make money on silver rising? The same shitadel that's losing their shirts on..."
          ],
          [
           "Nancy Pelosi insider trading bad.... Donald Trump insider trading good..?..."
          ],
          [
           "NO ONE IS BUYING SILVER..."
          ],
          [
           "He makes me want to vomit...."
          ],
          [
           "Conservatives love it!! They think he is so smart!! That’s how you make a deal!!! Wow how cool MARKE..."
          ],
          [
           "AMC BBY rock bottom..."
          ],
          [
           "Can we impeach this clown yet?..."
          ],
          [
           "I ordered 200 dollars worth back during the Columbia tariff debacle. I should’ve ordered 10000 dolla..."
          ],
          [
           "But the same is true for the US.  Literally imports of Chinese goods will halt.  China has more to l..."
          ],
          [
           "Like he should be in Jail today? Yea. That about sums it up...."
          ],
          [
           "Has Xi called yet?\r\n\r\nCan someone check if the phone is working?..."
          ],
          [
           "Literally nobody would cheer. ..."
          ],
          [
           "Children don’t have guns and apparently a big part of their priorities is stopping children from eat..."
          ],
          [
           "I mean, if you count on pardoning 1700 people charged with insurrection, starting a deportation prog..."
          ],
          [
           "Life is way too fucking long\r\n\r\n\r\nI need to fucking die already..."
          ],
          [
           "I feel reinforced in my belief that Trump is the worst thing that has ever happened to this country,..."
          ],
          [
           "> But I don't see how things end negative today\r\n\r\nDude, are you paying attention???..."
          ],
          [
           "Yeah it's also why I've been rolling ny eyes at \"China is selling\" or \"Japan is selling\". There's a ..."
          ],
          [
           "Oh, sweet Jesus, Liz Truss this clown..."
          ],
          [
           "## RETARDED..."
          ],
          [
           "It's insane, it's literally the single most stupid thing he possibly could have done. Perhaps the mo..."
          ],
          [
           "The more I read about the tariffs and Trump administration trade policy, the more sure I am that thi..."
          ],
          [
           "Look up \"Dark Gothic MAGA how Tech billionaires plan to destroy America\" on YouTube. Personal enrich..."
          ],
          [
           "Holding over the weekend kind of scared..."
          ],
          [
           "“Unstable”? You spelled corrupt wrong...."
          ],
          [
           "The market goes down, I get screwed over. The market goes up, I *still* somehow get screwed over....."
          ],
          [
           "I think historically, bad things happen in mondays..."
          ],
          [
           "The retailers will be pounded in the pooper at the next earnings report. Until then it’s all specula..."
          ],
          [
           "American president creates a \"problem\" where there was not a problem, and most of Americans are happ..."
          ],
          [
           "moving money quickly from us to his own pockets..."
          ],
          [
           "SPY futes are red again yo..."
          ],
          [
           "I dont think this is the right conclusion. Due to arbitrage, markets would fall everywhere even if o..."
          ],
          [
           "What  about the 36 trillion debt?? Which Biden policy was going to do something about that? ..."
          ],
          [
           "Why would I support this idiotic administration in their uncalled for trade way that helps no one bu..."
          ],
          [
           "Be advised, Netflix april 17th calls/puts will be fucked because earnings is after market closes. Th..."
          ],
          [
           "Someone should tell the trump administration that phones work both ways..."
          ],
          [
           "Pack it up tahgit! Go Screw!..."
          ],
          [
           "moving onto QE, risk on, and then bitcoin pumps..."
          ],
          [
           "Its pretty clear China's strat is to troll  into 10^1000% tarrifs with these dope memes they droppin..."
          ],
          [
           "Lol you wish. There won’t be fair elections ever again...."
          ],
          [
           "China has been preparing for this and this administration lies, is terrible at negotiating, and cann..."
          ],
          [
           "You have no idea the physical toll 40 million tariffs have on a person..."
          ],
          [
           "Bad...."
          ],
          [
           "Wait until you find out what Americans are doing to Muslims...."
          ],
          [
           "I made 6k instead of a potential 9k and i’ve been depressed all day about it. \r\n\r\nI’m gonna go fuck ..."
          ],
          [
           "So every country is a dictatorship if you change the definition of dictator, got it.\r\n\r\nThat daily C..."
          ],
          [
           "Selling my Silver, pity it's just a miniscule amount..."
          ],
          [
           "My feelings will get me sent to El Salvador..."
          ],
          [
           "Cheeto Trumpedo to you!..."
          ],
          [
           "Remember the Singal Gate? It was just 2 weeks ago and it stopped. Something more ridiculous next mon..."
          ],
          [
           "With Trump pushing  SCOTUS for reversal (or limiting) the \"Humphrey's Executor\" decision, he is fish..."
          ],
          [
           "I’m not sure the US has any allies any more...."
          ],
          [
           "I never thought once in my life I'd say \"good for China.\" Stick it to that orange imbecile...."
          ],
          [
           "####Trump wants a cut of trillions of dollars. \r\n\r\n\r\nWatch the money masters. \r\n\r\n\r\nFor every Federa..."
          ],
          [
           "They just went to bed for the day… china doesn’t care..."
          ],
          [
           "Anyone else would be indicted for insider trading. For this motherfucker it was just Wednesday...."
          ],
          [
           "Also think about infrastructure related items such as fiber optic network cabling, Ethernet, and thi..."
          ],
          [
           "All that money doesn’t make him bulletproof..."
          ],
          [
           "#Remember guys, the media is the #1 enemy of the people...."
          ],
          [
           "If we ever have a free and fair election and the voters hold a better memory than last time. Then ho..."
          ],
          [
           "US companies will get damaged this year, I would love a bull run but I think the sentiment will be c..."
          ],
          [
           "I don’t think it’s a majority though. His approval rating is underwater, we’ve seen Dem support pick..."
          ],
          [
           "Breaking news: US announces additional 7,000,000% reciprocal tariff on China..."
          ],
          [
           "Pre-market is all over the place. Are we already due for another \"gOOd tiM tO BY SToocKS aGANe\"?..."
          ],
          [
           "I thought it was washing money or something similar,  I could not believe you can bakrupt a casino 6..."
          ],
          [
           "Bank week is so boring. PUTS on NFLX..."
          ],
          [
           "Cope harder..."
          ],
          [
           "Why isn't this like on headlines new? Why isn't every person out there giving that network shit?..."
          ],
          [
           "China just called him a joke a couple of hours ago, and that’s the only call he’s probably gonna get..."
          ],
          [
           "No one is doing this on nationalist lines. \r\n\r\nYou think wallstreet is unwinding equities at a loss ..."
          ],
          [
           "Why? Both sides have essentially ended trade with each other. Other than trying to show the world wh..."
          ],
          [
           "Trump crashed the economy worse than Liz Truss crashed it over here in the UK...."
          ],
          [
           "Again. Where the fuck is congress?..."
          ],
          [
           "Trump grossly miscalculated if he thought he could extort China. Even if you could someone prove the..."
          ],
          [
           "Lololol right, easy to do well when you only have \"concepts of a plan\" so that you can pretend that ..."
          ],
          [
           "So this whole time he was just seeking validation that he is successful and can make it on his own? ..."
          ],
          [
           "This week seems to be all about the bond market\r\n\r\nEven without the tariffs, is there any trust in t..."
          ],
          [
           "Trump still has lots of cards. Mostly 2s and 7s. Unfortunately for him, everyone else has Aces and K..."
          ],
          [
           "Xi is leader for life of a totalitarian regime. He is untouchable. \r\n\r\ntrump is an idiot manchild...."
          ],
          [
           "just read someone say banks dumped today after they sold. The specific bank they mentioned rose 4% a..."
          ],
          [
           "Doesn’t have to be a big dump.  Just enough sellers to overwhelm the buyers at a slow steady pace wo..."
          ],
          [
           "I was really let down by Andrew Ross-Sorkin Monday.  Really shabby journalism.  Shotty really.  In f..."
          ],
          [
           "He is 100% falling asleep with the phone in his hand just in case he calls..."
          ],
          [
           "That's the US plan.  The Fed will quietly print just enough money to buy all the bonds back from Chi..."
          ],
          [
           "Had to get my car fixed.  The shop owner drives a cybertruck and posts about his   love on social me..."
          ],
          [
           "Market is crashing bad..."
          ],
          [
           "That’s an 11% drop, even with the delusional still believing he’s a genius!..."
          ],
          [
           "I see that your reading comprehension is still lacking..."
          ],
          [
           "Take note of every publication pushing it. Every investor “tip” site. Every professional online inve..."
          ],
          [
           "He should be in prison for Jan 6th and this current nightmare should never have happened . Thanks la..."
          ],
          [
           "Wow! Why didn't I think of that? Heck, maybe we should all lose our jobs so we spend less on groceri..."
          ],
          [
           "USDEUR is 10%+ down last month. That alone has a lot of effect on US equities. Everything combined i..."
          ],
          [
           "Agreed. I think the pause is basically going to be remembered as a dead cat bounce. Foreign investor..."
          ],
          [
           "This isn’t “counties” doing it. It’s tends of thousands of organizations and individuals is my point..."
          ],
          [
           "Trump is gonna call Xi at some point begging….\r\n\r\nThen he’ll come out and say that Xi called him, ki..."
          ],
          [
           "Poor slave, thinking they're free and democratic until the end \r\nPoor slave, the master gave you the..."
          ],
          [
           "Hahahaahahahahahaha...."
          ],
          [
           "Trump inherited millions of dollars and is dumb as a brick. He’s never been business savvy. Unfortun..."
          ],
          [
           "Trump can't get this to his head that China was there for 5000 years and will be for another 5000, w..."
          ],
          [
           "Has anyone seen what the shorts did to KAVL!! So disgusting!!..."
          ],
          [
           "Lmao, Donnie Dumbfuck gave them trading partners around the world bucko..."
          ],
          [
           "The ship has sailed. Other countries will de-risk and diversify trade and investments away from US...."
          ],
          [
           "You know if the supreme court doesn’t give it to him it won’t be over.  There will be stooges in con..."
          ],
          [
           "Teachers pet ugh..."
          ],
          [
           "Where we are currently seems like the Bear Stearns moment. All the warning signs are there and marke..."
          ],
          [
           "NAK. very volatile.\r\n\r\ndowntrend\r\n\r\n&#x200B;\r\n\r\n[/](/)..."
          ],
          [
           "Can I have a Flair Brazilian Retard ?..."
          ],
          [
           "Naw, this news will boost stock prices at least 10% after Musky comes up with some bullshit spin...."
          ],
          [
           "Insider trading and fraud.  Should be in jail...."
          ],
          [
           "After reading this thread, it sounds like a horrible investment so I'm buying CALLs on Monday...."
          ],
          [
           "Fuck this retarded market and all the retards in this sub..."
          ],
          [
           "Oh I dont forget. Of course it will be \"how could hunters pecker do this to us\" or some other cult t..."
          ],
          [
           "You'd think someone who bankrupt a casino would know how to bluff and hold cards. /s..."
          ],
          [
           "I continue to be astonished at how supine Americans are in the face of their democracy being destroy..."
          ],
          [
           "I feel like that’s gonna tank soon though..."
          ],
          [
           "This guy is doing the ultimate fake it until you make it, except he's going to make everyone broke...."
          ],
          [
           "That cat is dead.\r\n\r\n\r\nGtfo while you can. \r\n\r\n\r\nWorst case, come back in a month or two, you will n..."
          ],
          [
           "Drinking FlavorAid in support of the leader. The death thing was just an unfortunate side effect..."
          ],
          [
           "Great! A step closer to dictatorship..."
          ],
          [
           "Sometimes I buy onlyfans of girls I went to high school with just to make sure I never missed out..."
          ],
          [
           "Russia and bellarus are selling treasuries?  I'm confused....are there other American allies I don't..."
          ],
          [
           "He belongs in prison..."
          ],
          [
           "As a European it feels like America as a normal stable democracy is done. The first Trump win was ki..."
          ],
          [
           "Literally spent my last dollar on puts. A 12 hour shift last night just to scrounge up $350. Fell as..."
          ],
          [
           "They are quite nihilistic. I wonder if the guy will realize the irony of his comment...."
          ],
          [
           "$REIT $ARD..."
          ],
          [
           "Silver squeeze is about as credible as Doge squeeze.\r\n\r\nHeadline-chasing newb investors are going to..."
          ],
          [
           "Please, dump all of them...."
          ],
          [
           "So you only see white chicks at Target even though white chicks “don’t give a shit” and YET! Target ..."
          ],
          [
           "Unsurprised.\r\n\r\nAlmost as unsurprising as the MAGA fucks in congress doing nothing about it...."
          ],
          [
           "That was the most obvious bull trap in history and if you fell for it you're ngmi...."
          ],
          [
           "I bet he is about to impose more tariffs somewhere...."
          ],
          [
           "Target was literally my \"they are better than Walmart so I'll spend money there instead of Walmart\" ..."
          ],
          [
           "Donny will say this is a \"win\" and China has conceded it will not raise tariffs any higher!..."
          ],
          [
           "This term so far is even less politically stable than the first term lol..."
          ],
          [
           "Yo. This is terrifying...."
          ],
          [
           "It hurts the US consumer but it will hurt the Chinese economy as well.\r\n\r\nI think this is a price Xi..."
          ],
          [
           "thanks Obama!..."
          ],
          [
           "He could just sleep through the presidency like he claims Biden was doing and it's still be a succes..."
          ],
          [
           "I work in finance writing (sort of) and it’s insane to see how much of “integrated marketing” is abo..."
          ],
          [
           "Bought into SLV futures & lost 15 cents. It’s a trap!..."
          ],
          [
           "Moving away from recession into depression..."
          ],
          [
           "Lost 2k first week \"investing\" in options, disabled them, and now I'm just gonna chill...."
          ],
          [
           "There’s gotta be someone  in our government with some power to JFK this dude. Honestly, at this poin..."
          ],
          [
           "LVMH (MC)-31.42%\r\n\r\nDisney (DIS)-17.03% \r\n\r\nApple (AAPL)-15.23%\r\n\r\nASML (ASML)- 8.65%\r\n\r\nAmazon (AMZ..."
          ],
          [
           "There's going to be 4 years of this shit. How is he not impeached and removed already is beyond me. ..."
          ],
          [
           "I was also disappointed to see it mentioned in the Morning Brew newsletter, which I was enjoying unt..."
          ],
          [
           "Finance media lying \r\n\r\n*Surprise*..."
          ],
          [
           "i sold my puts so i expect cheeto to declare war on denmark..."
          ]
         ],
         "hovertemplate": "category_name=負面<br>text_preview=%{customdata[0]}<extra></extra>",
         "legendgroup": "負面",
         "marker": {
          "color": "#d62728",
          "opacity": 0.7,
          "size": 5,
          "symbol": "circle"
         },
         "mode": "markers",
         "name": "負面",
         "orientation": "v",
         "showlegend": true,
         "type": "scatter",
         "x": {
          "bdata": "vsgTQxX+E0PqniFDau8WQ6wuFEM1dxdDz78hQ259JUO89RNDpKMlQ0T2G0OrNBVDueUeQ0kSIkOu+h5DnF0hQ6QpHEOnqyNDU4IWQ54aFEPBFBRD6fgUQ62nFEODxyFDah4TQ/utIUO8GBZDxmwdQ5EWE0NUHSpDFQYUQ8DyE0NIfhdDJ3wTQ6JKFEN7FBNDTmoZQ5fWIUMbZiNDU78kQyJFIUP6TxNDsTYWQ989F0MaVRxDZekeQ5yeFEMPhCJDwAgUQ038E0NrGyJDtZslQ6PCFEPmASJDmZIdQ8x/I0ODPyJDQF4UQ9y2G0PpRxZD8FIYQwTbFUMChBNDYxgiQ9o6E0MaahNDSnETQ8iXHkNXYSJDSO8TQ0Q5F0NCyxNDosIXQ8BGE0P80SVDnFwXQ3kcJUPIxxZDA1wcQx1tJUMd8CFDSNUTQ5p/FUOVlhNDBbAaQ+QHJEOBdRNDCmsWQxucG0OYlB5DefUVQwlWJEPmrxND0eklQypsFEOOvRRDMT0VQzB7FEMU0xRDx+shQ6OiE0NpiyRDp1AfQ6zBE0NguRVDtf0lQ0UpFUMCXRVDw5ATQwbyFENCTxRD01wUQ9NDIkMy+iVD12oWQ/QzE0N+byVD87YeQ0TTJUNtsyFDSBUdQ1kwF0PZPhNDpAwYQ2eKJUPpvyFDU6oTQz1HJEPgUx5D00giQ2iGG0OtURVD238UQwXnE0MRjBRDCUUUQyUGE0M1jhVDQ98TQwELIkO06BVDXWUlQ2AuFEMcVR1Dp4YUQ7zzJENB2R1Dp8sdQxMpF0Pg6SRD4vshQ+nfJUPZriFDThMfQ5pnIUMPqRdDLaUWQ9cIFEOiphRD3rciQ4xOFUOzqBdD0fwTQzwZJkPjDBRDTuwTQ/EoGUMT+yFDHeEYQ+ZiE0PifRxD4bwTQ3BEFEO6ExVDPJQlQ5S/HkPofxRDLegWQ4GUFUNKEhdDTaUTQ7j2IEOUzBVDAnYdQ1RmFENzixRDuJ4ZQwR2IUO2xBZDMIYUQxVIFEMiQSRDZuwbQ+6AE0MTOxNDzmYlQ5EYFEMD1SRDao0dQ4qVJENMByRDEsUhQ5i2E0MsHRRDqvQTQxAkE0PEECVD6ukSQ5stE0PACRNDXcETQ+uzFUMEGBlDlFgVQ8kNE0MGeipDRYchQ08rJkN/ZhtDJSEiQy7TFEMXYBZDUxwdQ5fSKUNu2hZD52oUQxldJkPcCyFDakYlQ7GYG0PH0xRDoMwUQ3UxE0Pkqx5DGVQiQ4WNIEPWqRND7hAiQ58+E0PboyRDgGMWQ9ZEKkOHlSRDp+AhQ7L8IUNKsxVD8n0UQyavI0OtvhNDQKgkQ7ILE0Mj/iNDK2YXQzEGFkP/ohVDM7EUQ11/HEPBBRRDxBclQ3MBHUOaOSJDx6EXQ04pE0P5uiFDHQUjQ8J6E0NNYhVDnp0lQxurFEMzahND+i4fQ5GTEkOmHBRD27MXQ6SeFEM3Fx5DaacjQ5whGEOFFBxD3vISQxf1HkNBDipD29EUQ6qjIEOAtRRDmRQUQ+38I0O9gRNDlQ0iQx7PJUM0fhNDDxYTQ52BGUOl6hJDaRcXQ/XVEkOUbhNDEOUSQ3V0F0MWChNDwwwWQyKaE0NmgCVDvngUQxHKHkP07xhDwlgTQ/suFEMocBVDK1gVQwa+E0MfeR1DBg8WQ8PrE0OkFhhD",
          "dtype": "f4"
         },
         "xaxis": "x",
         "y": {
          "bdata": "QQoPQn5wEUIe7tNBzUf8QbE+EkKtNvlBtrfRQZxY30FtwwdCtd7YQTR+/kEadRJCibz4QS2bzkHj2vdBGkHgQQf58kEcZ9NBIMkJQvFpEkI7JhNC0rATQksUCkK9OdJBqKkKQqf90EFBpwJCua3oQScGCEKqV+dB++0SQtcrEkJoXv9BEwYLQkq8DUKvgwpCyz8BQvLszkFhYd5BhpDSQesd0kFmHRFCZ3YJQmu5AUI+CelBgXD0QajmEUKSJ89BAOYTQnyoDELoztJBOprTQTwvEkKoQ9BB2bP1QW1j4EH/7tVBGWcLQvtl/kH/+g5CGmsDQn0oC0JiIA9CInTPQfLNDEL3WQpCa+oMQvVA6UH0DNRB/zATQvvG+kFTPxBC0A4GQpfrCkKOcdpBgtwBQq9m0UGGx/tBhxb2QZc11kE62NFBTWoRQjOfFUJuxglC07r6QXCW40HPsxBCOxQMQo6//0HYOvVB0dQSQkAa1EGk8AtC5TnWQRuED0KVxRNCnMAVQhOvE0KLrxJCK6rPQfm5EUIywtFBsHjyQYvuEUKMLhZC62jTQdUUDkK2GxFCr2sPQng2DkJ8qBFCHP8SQsgn2EECTtVBIDMNQtLICUI19c9B/In2Qe7k0kHczs9BGOXqQWqIBEIP4gtCsksAQll11kEnFNJBHz8IQkLz1EGRMvRBKczNQfMb/0FtUQ9CwOwSQkV+C0KeuxNCASoRQouqDUK9ew1CmVkHQk1C1EHqxQ9Ce/zWQR+vB0Jc+OJB4qAPQjdO00G5OuZBpeXlQY7S+kEPfc5BGT7ZQTXG40GgzNBBz/n0QZBr4EH4JAZCru0JQgHIEEL7vwtCEmzTQRWpFUJM9gBC/L0QQjNK2kEKbRBCirAKQqvE9EEGz9ZBFnz1QfNiCkJvdPBBcdsQQhr2EEJxoAxCvUTUQdBZ80EAJhFC9iYNQn+7FkL1h/tBKAIKQgCizkFZDhNCVavgQYIbFELxchJCaoL7Qfry0kH0bQ9C50cSQg3pD0IvGOJBeS7zQcWwDEKx3QhC6jncQbv2D0IRyNRBhy/mQXmm1kFOU+BBVFXQQXQ4CEK5CBVCDCkMQtSDEULL6dNBOxcJQju3DEJpjQtCQ7YHQtihCkKps/NBhQkWQnZcC0LNLeVBRCHOQasP1kHqLABCDTjWQdwODUJacg5CuybrQegX6EEL1/xBiRoOQlBc1kEtttVB10zSQfbq/kHbAgxCzZQPQiy7D0KMx+5BR2DcQaxMz0Fpvg9CylvQQShICUJVNtFBbBUCQvly5kFbRtpBzmTRQYJe0EFMOw9CUCALQpjd40Gl0g5CL2vTQRKMCEKP1ORB+s8KQjSWEkJOqAlCtaUWQiaT70HFMgpCko7bQSzI7UH8csxBOQ4KQvJKEUJw7s9BcNXUQaQCFEJbkBBCb0DUQeRTDUJrjBFCjOf2QaKmC0Jrjg9CA9sNQlAFEEL0AfRBv2viQVwkAEKid/JBS9MLQtwG+EE4/udBZDASQr2izkGpXBNC6AcNQvzy00FaYRFCDKHRQYm/4kHoNxRCMPYSQutS9UHFXwtCQNIIQlwmDUI8txBCloIJQlbzAELOJQhCyy0RQg50E0IyfdNBDvkVQvQp+UGlc/VBibQSQiEtFULrmRFCwMIQQvoPFELr0edBObkSQqxUFUK8SgtC",
          "dtype": "f4"
         },
         "yaxis": "y"
        },
        {
         "customdata": [
          [
           "Stunt as in like why did they even make a big deal about starting it in the first place? No company ..."
          ],
          [
           "Seeing lots of red in the ticker...."
          ],
          [
           "Hoping to ejaculate in wet warm puss tonight, wish me luck..."
          ],
          [
           "Confirmed not a trap. Its been like this for probably 2 months, we have just let it slowly spread by..."
          ],
          [
           "It's a copy/paste from a Bloomberg terminal...."
          ],
          [
           "this sub has ruined emails for me, whenever I write “Best regards” I think of WSB..."
          ],
          [
           "\r\nI’ve been doing pretty good with this, but it’s heavy on fees. Looking for a similar risk return p..."
          ],
          [
           "USA begging China to call them..."
          ],
          [
           "Disgusting tactics..."
          ],
          [
           "GEO WM..."
          ],
          [
           "Google \"target dei\".\r\n\r\nI did it for you.\r\n\r\n..."
          ],
          [
           "Shop like a billionaire...."
          ],
          [
           "Any thoughts on RVPH?..."
          ],
          [
           "My first wife was tarded, she's a pilot now...."
          ],
          [
           "Is sundial growers going to rise up?..."
          ],
          [
           "$EVGO \r\n\r\n*Record Revenue increasing 5 straight Quarters\r\n\r\n*30% SI, poised for a massive squeeze on..."
          ],
          [
           "Sorry; I’m dumb but is this not just a USD to X conversion chart?..."
          ],
          [
           "Pls respond..."
          ],
          [
           "Goshdang about time. It was fine to say when I was a kid, fine in college, but then I went to war an..."
          ],
          [
           "Cash..."
          ],
          [
           "These China AI factory memes are pretty good. I gotta admit they boomed us this time...."
          ],
          [
           "And plug..."
          ],
          [
           "what if time machine parts come from china..."
          ],
          [
           "Completely unrelated, but for like 20 years of my life, I thought the saying was \"Button down the ha..."
          ],
          [
           "100% fact! Truth hurts...."
          ],
          [
           "Weekend thread is where the real ones at ![img](emote|t5_2th52|8883)..."
          ],
          [
           "\r\n\r\n  [MarketWatch: Stock Market News - Financial News - Earmings Stonkvest (stockbuyvest.com)]() \r\n..."
          ],
          [
           "And you are? \r\n\r\nMarket. Mr. Market. ..."
          ],
          [
           "Yup - money, money..."
          ],
          [
           "I'm Brazilian should I change usd to to the Brazilian real? Not financial advice just what you think..."
          ],
          [
           "The steal..."
          ],
          [
           "To be fair, Chinese exports to the US make up a much larger portion of China’s GDP than the other wa..."
          ],
          [
           "heard chatter upto $350..."
          ],
          [
           "$IRDM\r\n\r\n&#x200B;\r\n\r\n[/](/)\r\n\r\nat high level its consolidating, \r\n\r\nhowever currently in uptrend...."
          ],
          [
           "Please use this thread to discuss your portfolio, learn of other stock tickers & portfolios like [Wa..."
          ],
          [
           "Oh my gourd!..."
          ],
          [
           "Believe it or not calls and puts..."
          ],
          [
           "**You're absolutely right:** Since February 4, the DXY has dropped by 8.50%. Some have said it's all..."
          ],
          [
           "Updated Daily by EOD\r\n\r\n  \r\n[Daily Shorts]()..."
          ],
          [
           "My first thought..."
          ],
          [
           "A lot of stocks are down right now, and I'm thinking of spending 250 on the below tmmw. Thoughts (so..."
          ],
          [
           "\"New to investing\" but almost $50k port. Ok there...."
          ],
          [
           "There are funds which directly hold physical gold/silver without any intermediate contracts and have..."
          ],
          [
           "Already underway. the petro dollar is no longer in place, part of the reason for BRICS is to not hav..."
          ],
          [
           "It's just showing everyone they are not the issue. Same thing China did with the white paper. It's j..."
          ],
          [
           "Note that clean energy is a promising sector for a long time. Too long. If Trump will elect it could..."
          ],
          [
           "You need to stop listening to the noise and think with your own brain bud. And no, the 1/1/1 portfol..."
          ],
          [
           "I think people are rooting for it to go bad really fast, so he realizes it's a terrible idea and cha..."
          ],
          [
           "It was on Good morning america as well...."
          ],
          [
           "MAGA:  \"It must be true!  He said it!\"..."
          ],
          [
           "basis trade unwinding could be causing this, but at this point in time do we really have any way to ..."
          ],
          [
           "I can’t take four years of lying. Help!..."
          ],
          [
           "Actually they are the smart ones\r\n\r\nWho do you think is getting rich?\r\nIt’s not the American people...."
          ],
          [
           "Breaking News: Mango challenges Xi to a cage match at WrestleMania 41 to settle their differences..."
          ],
          [
           "Worry about your own country buddy...."
          ],
          [
           "I think it's actually illegal to say how I feel..."
          ],
          [
           "doge coin. Elon is tweeting a lot..."
          ],
          [
           "\r\n\r\n  [World Markets (stockbuyvest.com)]()..."
          ],
          [
           "Over 9000%!..."
          ],
          [
           "![gif](giphy|3oz8xZGfHArTvh99YI)..."
          ],
          [
           "Carryover indefinitely for life of taxpayer..."
          ],
          [
           "What dose the 100.027 mean ?..."
          ],
          [
           "\r\nAn evil man will burn his own nation to the ground to rule over the ashes. Sun Tzu..."
          ],
          [
           "Any word on when they may lose compliance? Can’t seem to find anything anywhere. Just mentioned the ..."
          ],
          [
           "BYDDY mark my words...."
          ],
          [
           "The frame of reference I’m using, are the actual government documents from the country we’re talking..."
          ],
          [
           "The squeeze for silver is different. If people start demanding the physical from their contracts, it..."
          ],
          [
           "so no source of a selloff. Got it, thanks...."
          ],
          [
           "Thank you. Should we hold??..."
          ],
          [
           "Carney is the mastermind. China is saved til later. They don't want to strengthen their currency by ..."
          ],
          [
           "I look at news mostly but sometimes\r\n\r\ni do DCFs, look at 10Ks, revisit quarterly reports, other peo..."
          ],
          [
           "Trump has already blinked once...."
          ],
          [
           "Word on the street, new price target 3+?\r\n\r\n\r\n\r\n\r\n\r\n/\r\n\r\n..."
          ],
          [
           "Already done it and rebalanced, but how comes you don't like em?..."
          ],
          [
           "Joby..."
          ],
          [
           "wholesale ask premium on 1 oz credit suisse in now $150. yesterday was 140! thats crazy..."
          ],
          [
           "no it's not..."
          ],
          [
           "No, they love it. It allows them to live vicariously through trump and still allows them the upper h..."
          ],
          [
           "NIPU:\r\n\r\nThis randomized, multi-center phase II study evaluated the efficacy of  the universal cance..."
          ],
          [
           "Silver is sold out everywhere. Local hobby shops re pushing heavily on facebook to buy it. There is ..."
          ],
          [
           "What’s your average price on RDDt?..."
          ],
          [
           "if they can accurately predict these forest fires that would be dope..."
          ],
          [
           "$DVAX..."
          ],
          [
           "Investors brace for more volatility as the west cuts off Russia's access to Swift  - []()..."
          ],
          [
           "Gappers for today\r\n\r\n [Gappers (stockbuyvest.com)]()..."
          ],
          [
           "how does the futures market look today\r\n\r\nSPY, Euro, Gold, Crude Oil, Natural Gas, Corn\r\n\r\n [Futures..."
          ],
          [
           "beginner help please!!  i’m 22 y/o in usa, looking to invest for the long term, w/ no money currentl..."
          ],
          [
           "Trading firms set the market, retail reacts..."
          ],
          [
           "Stocks were at like ath giga high then and the spike wasn’t as rapid...."
          ],
          [
           "The bond market is also begging for that call. Thing is bouncing around worse than the S&P....."
          ],
          [
           "Stock list generated from technical Analysis. \r\n\r\nUpdated weekly\r\n\r\nStocks already on an established..."
          ],
          [
           "Happening now..."
          ],
          [
           "Moar..."
          ],
          [
           "Mango's insider trading club: Let's nuke it from space, it's the only way to be sure...."
          ],
          [
           "Add MIK..."
          ],
          [
           "If the republicans can be removed from office, it may be a saving grace for a while...."
          ],
          [
           "Buy a cool car bro..."
          ],
          [
           "This data is from FINRA ATS - Updated Weekly\r\n\r\n  \r\n[]()..."
          ],
          [
           "And r/conservative are currently chest bumping over stories of firing judges, deporting students and..."
          ],
          [
           "It's only 5:30 and \r\n\r\n###I'M SO BORED###..."
          ],
          [
           "It’ll be interesting to see how companies amass inventory when the past 15 years has moved companies..."
          ],
          [
           "Lmao what? Thought I was in WSB for a sec with this paranoid nonsense. Silver is not a hedge fund tr..."
          ],
          [
           "Date|Symbol|ShortVolume|ShortExemptVolume|TotalVolume|Market\r\n  \r\n20211209|PPSI|6026762|296895|12855..."
          ],
          [
           "How much did he lose the day, week, month  before ?    Who cares.  It’s all on paper...."
          ],
          [
           "Wasn’t that delta?..."
          ],
          [
           "Warm regards I mean retards..."
          ],
          [
           "Summarized with Highlights, updated weekly be EOW\r\n\r\n  \r\n[COT Report Summary]()..."
          ],
          [
           "My mind went to Clint Eastwood, Tommy Lee Jones, Donald Sutherland, and that last guy in this descri..."
          ],
          [
           "So wait on tax day or after your expecting things to fall or go up? ..."
          ],
          [
           "I forgot they existed...."
          ],
          [
           "Why can’t he just play golf all day long?..."
          ],
          [
           "There will be a breakdown between necessities vs recreation purchases. Grocers might see a spike...."
          ],
          [
           "I kind of think the plan is to distract people with economic yoyo to set up deporting AOC to El Salv..."
          ],
          [
           "Virtually everybody in my circle stopped shopping at Target the day they sucked up to tinyhands by k..."
          ],
          [
           "We had something like this with Liz Truss (with help from Kwasi Kwarteng) in the UK but on a smaller..."
          ],
          [
           "I'm employed doing well with no debt but there is far more increased risk of me losing my job this y..."
          ],
          [
           "[/](/)\r\n\r\n&#x200B;\r\n\r\nsideways now, waiting for news..."
          ],
          [
           "Looks like gyina is ready to let the \"phone ring off the hook\" for 5000 years.\r\n\r\n/..."
          ],
          [
           "#Ban Bet Lost\r\n\r\n/u/Local-Wall-4359 made a bet that SPY would go to 540.0 within **5 hours** when it..."
          ],
          [
           "We’re also hiring at the dumpster behind Wendy’s. \r\n10 handy’s an hour for all you can eat frostys..."
          ],
          [
           "$GE rose today on drone news. Here's the daily chart\r\n\r\n&#x200B;\r\n\r\n[/](/)..."
          ],
          [
           "it was amc day today. fsr after hrs..."
          ],
          [
           "Clearly 77 million people  are ok with this...."
          ],
          [
           "If you don't like trump quick watching marvel movies! /s\r\n\r\nThat's you, a dumbass. \r\n\r\nThe US leader..."
          ],
          [
           "6969% tariffs or riot...."
          ],
          [
           "Or deal with the broken carts at Walmart. Target carts are smooth..."
          ],
          [
           "drop on 14 dec. still falling\r\n\r\n&#x200B;\r\n\r\n[/](/)..."
          ],
          [
           "Also China: We are embargoing strategic minerals needed by your military and tech sectors.\r\n\r\n/\r\n\r\nI..."
          ],
          [
           "$90k -> $1M if the fed cuts rates >25bps. Fellas I might just port it..."
          ],
          [
           "What do you think of HIVE?..."
          ],
          [
           "This is like a pissing contest between Xi and Trump. Can we please get an adult in the room?..."
          ],
          [
           "Same..."
          ],
          [
           "Pelosi and several others did the same thing...."
          ],
          [
           "Trump's Razor that needs to become a common term..."
          ],
          [
           "Who created those refugees in the first place though?..."
          ],
          [
           "All my wife and I are buying now are groceries (an old fashioned but BEAUTIFUL term!) and bullets. S..."
          ],
          [
           "The stock market was higher then. \r\n\r\nMy understanding is in a healthy market, yields go down when t..."
          ],
          [
           "Is there a reason why the 10YR seems to go vertical in the mornings?..."
          ],
          [
           "you can’t be serious. ‘unexpected.’..."
          ],
          [
           "One might say they were a \r\n\r\n*takes off sunglasses*\r\n\r\nTARGET of a boycott..."
          ],
          [
           "can someone explain to me how the TME share price rises to + 66% after the hours and 5 minutes later..."
          ],
          [
           "Free nation that invaded Iraq, Vietnam, over a lie and MIC. And currently threaten to annex Greenlan..."
          ],
          [
           "Speak for yourself, my wife is being harder on them than I am.  She's *pissed*.  \"Greatest anime bet..."
          ],
          [
           "His sneakers, guitars, and cyrpto (i am not naming everything) proved that...."
          ],
          [
           "I really think ARHS will be the , just because United Furniture Industries closed down for good two ..."
          ],
          [
           "What are we gonna call it when Wendy's is gone...."
          ],
          [
           "Let’s say Trump drops the Chinese tariffs.  Does that resolve the situation or is it too late?  I ha..."
          ],
          [
           "Hes mad because J Powell doesn't play games. Probably one of the few people whos working on that lev..."
          ],
          [
           "&#x200B;\r\n\r\n [Cryptocurrency Prices, Charts, Daily Trends, Market Cap, and Highlights | Coinbase]() ..."
          ],
          [
           "Maybe trump should kiss his ass..."
          ],
          [
           "I did puts over the weekend, am I cooked ![img](emote|t5_2th52|4260)![img](emote|t5_2th52|31225)..."
          ],
          [
           "$UAA..."
          ],
          [
           "Hah.. you belong here...."
          ],
          [
           "How the hell do you order a magnitude? Is that like a call or put? Can I gamble on magnitudes? I'd l..."
          ],
          [
           "Tangerine Twat is my absolute favourite...."
          ],
          [
           "Emoluments clause? lol. What is that?..."
          ],
          [
           "Fairly..."
          ],
          [
           "[/](/)..."
          ],
          [
           ">President Donald Trump has asked the US Supreme Court to let him fire top officials at two independ..."
          ],
          [
           "Both bull and bear are not giving up the fight..."
          ],
          [
           "MegaWatt's making moves! Bagging Labrador Mineral Resources Inc. and raising funds shows they're ser..."
          ],
          [
           "Like others have said, I go to target to avoid Walmart people..."
          ],
          [
           "If costs increase wouldn’t it just show higher sales numbers and then the media could twist it even ..."
          ],
          [
           "\r\n\r\n [Bitcoin Mining (stockbuyvest.com)](/) \r\n\r\n$MARA $RIOT $WULF $BITF $CAN $COIN $BTBT $CIFR $HUT ..."
          ],
          [
           "Premarket Gainers for Today\r\n\r\n [Stock Invest Premarket (stockbuyvest.com)]() \r\n\r\n\\#premarket #marke..."
          ],
          [
           "They’re going to start selling our treasury bonds..."
          ],
          [
           "Are we allowing the similar to cock one now as well?..."
          ],
          [
           "Call jay gee went worth 8 seven seven cash meow..."
          ],
          [
           "Hey guys! Currently on vacation which has been nice but I also miss the fast paced nature of my work..."
          ],
          [
           "What site can you even purchase this stock ?..."
          ],
          [
           "10 consecutive weeks _so far_..."
          ],
          [
           "It is Aladeen..."
          ],
          [
           "Chicken jockey..."
          ],
          [
           "Sun Tzu wrote in The Art of War: “*In war, the victorious strategist only seeks battle after the vic..."
          ],
          [
           "Be like mango. Create a new holiday. Hype it up for 2 months. Talk about it nonstop. Make a presenta..."
          ],
          [
           "# Stock winners\r\n\r\n\r\n\r\n**11.65% GameStop**\r\n\r\n** Earnings report - GameStop knows what its investors..."
          ],
          [
           "I agree, but you cannot just quickly change out of it.  It’s not like medical manufacturing can inst..."
          ],
          [
           "Significant Share Repurchase Recently.On April 1, 2025, China Hongqiao Group Limited spent HKD 55.14..."
          ],
          [
           "It's a holdings company like RCAT, UMUS, etc.. As a holding company, may have a couple owned compani..."
          ],
          [
           "Bro y u buy puts after a -4% day yesterday..."
          ],
          [
           "Held onto my egg futures too long now they are poultry futures...."
          ],
          [
           "En Passant!..."
          ],
          [
           "They're doing so well, r/conservative simply doesn't talk about it anymore..."
          ],
          [
           "This is my standard opinion of BlackRock but i feel like they are right...."
          ],
          [
           "Hey gents, I recently started seeing a new girl and she has all sorts of different eating habits. So..."
          ],
          [
           "You make no sense. Then why is everyone crying coming to USA arms with deals they didnt want to make..."
          ],
          [
           "Remember when Powell was asked this question at a press meeting and he Powell replied “not permitted..."
          ],
          [
           "Oooooffff 99.45 right now..."
          ],
          [
           "will be a private company..."
          ],
          [
           "$KHC is this a good double bottom? Is inflation a catalyst for this stock?..."
          ],
          [
           "AVCT if you get a chance!..."
          ],
          [
           "Top trending stock tickers on social media\r\n\r\n [Social (stockbuyvest.com)]()..."
          ],
          [
           "If I have cash sitting in SPAXX for example, what are those yields most closely tied to?  Is there a..."
          ],
          [
           "Cause depression, remove consumer protection!..."
          ],
          [
           "You're welcome, but please always do your own DD ;)..."
          ],
          [
           "Too late. Foreign holders of US treasuries have already made the decision to unwind. The calculus is..."
          ],
          [
           "Yup 2025 requires the world to use the US dollar as a currency to promote us from having to protect ..."
          ],
          [
           "How this Friday pumped is beyond me...."
          ],
          [
           "Yes!!!..."
          ],
          [
           "gme is too high, short squeeze is only way you can squeeze some profit. If you want to HODL then a f..."
          ],
          [
           "I just bought more physical metal..."
          ],
          [
           "Upgrades, Downgrades\r\n\r\n [Stock Analyst Recommendations | Upgrades & Downgrades | Nasdaq]()..."
          ],
          [
           "How do yall buy new cryptos?..."
          ],
          [
           "Belichick 2028???..."
          ],
          [
           "The bond market\r\n/..."
          ],
          [
           "This probably means Trump was truly shitting his pants with what was going on with 10 year treasurie..."
          ],
          [
           "Stocks that are trending up today\r\n\r\n [Popping (stockbuyvest.com)]()..."
          ],
          [
           "Looking for advice on influencers and analysts to follow...."
          ],
          [
           "The thing is is that paper silver is much more plentiful than physical silver, but people don't know..."
          ],
          [
           "a month ago I typed out a list of everything that was happening and asked ChatGPT what else I could ..."
          ],
          [
           "&#x200B;\r\n\r\n[]()\r\n\r\n&#x200B;\r\n\r\nNew IPOs, Performance of IPOS..."
          ],
          [
           "What are you buying calls on?..."
          ],
          [
           "Hey bros!! I wanted to share some recent news I found on this company called Banzai International, I..."
          ],
          [
           "What’s your favorite flavor of Crayola?..."
          ],
          [
           "FANS\r\n\r\nJust started the climb\r\n\r\n[/](/)\r\n\r\nLet is cross purple line EMA (21) to confirm uptrend..."
          ],
          [
           "I’ve been looking into them...."
          ],
          [
           "ok, thanks..."
          ],
          [
           "I'll be interested to see how this plays out for them ngl..."
          ],
          [
           "AAPL..."
          ],
          [
           "\"We\" who?..."
          ],
          [
           "That was a masterfully executed bull trap. Let's see if it holds up...."
          ],
          [
           "I say, call em. Call Trump, record it and expose his desperation. If for no other reason than to mak..."
          ],
          [
           "Art of the Deal..."
          ],
          [
           "Ha ha ha nothing much my number of shares are small but distributed across I still have majority of ..."
          ],
          [
           "He did write some freaky letters about the benefits of banging old ladies.\r\n\r\n“Because in every Anim..."
          ],
          [
           "I know they are missing me, I did my weekly grocery shopping there, buy my clothes there, all my hom..."
          ],
          [
           "Jerome is the last line of defence, if he falls, America falls..."
          ],
          [
           "[ Removed by Reddit ]..."
          ],
          [
           "Newbie here.. what is a definitive stick for stock acquisition agreement?..."
          ],
          [
           "Does it matter ? Who in here is gonna do anything g ? Nobody..."
          ],
          [
           "On April 9, China Hongqiao Group Limited (01378.HK) announced that on April 8, 2025, it repurchased ..."
          ],
          [
           "Good Morning Investors, \r\n\r\nI am a young Finance student with lots of ideas and plans. \r\n\r\nI would l..."
          ],
          [
           "Oh damn that happened to US citizens? Wonder what would happen to non Chinese citizens if they spoke..."
          ],
          [
           "Counter argument: Trump was a “Democrat”, so was Elon, RFKjr, Tulsi, and many more before they switc..."
          ],
          [
           "SLV =/= physical silver..."
          ],
          [
           "Yes, you’re very sexist, you even said as much above that you didn’t want to vote for a woman and wa..."
          ],
          [
           "\r\n\r\n [Threshold (stockbuyvest.com)]() \r\n\r\n$AMC $CVNA $GME $NVDA $INTC..."
          ],
          [
           "So wait for the dip?..."
          ],
          [
           "\r\n\r\n> The 10-year Treasury yield climbed 6 basis points to 4.456% Friday Asia hours, as the sell-off..."
          ],
          [
           "Thanks for the laugh during these times..."
          ],
          [
           "Red pill for the masses. All propaganda...."
          ],
          [
           "Everyone is talking about the Bond market. But the rates for the bond market are still lower than th..."
          ],
          [
           "They will run out of money ten years before the LEAPS product comes to market assuming it gets appro..."
          ],
          [
           "Super curious if you’ll delete this comment in 4 years when you’re wrong.  So I’m going to do a\r\n\r\nR..."
          ],
          [
           "US currently has no allies...."
          ],
          [
           "That is not what this chart shows..."
          ],
          [
           "Irl you could always say retarded without getting banned..."
          ],
          [
           "“Thinking about“ cashing out??? It was the first thing i did (2nd was renewing my passport) in Janua..."
          ],
          [
           "I'm reading now about 125% retaliatory tariffs from China.. but so far the reaction of the market do..."
          ],
          [
           "Found the killjoy...."
          ],
          [
           "\r\n**User Report**| | | |\r\n:--|:--|:--|:--\r\n**Total Submissions** | 10 | **First Seen In WSB** | 3 ye..."
          ],
          [
           "Yeah, the issue is if people need cash, they will have to sell. Especially if they are leveraged...."
          ],
          [
           "Are any of you investing in European stocks for when the European market opens in about 9 hours?..."
          ],
          [
           "They meant the Airline..."
          ],
          [
           "AERC super low float could rip any day now..."
          ],
          [
           "They r superior confident that they have the card to play..."
          ],
          [
           "Is there anything to get into tomorrow?..."
          ],
          [
           "$RBDX will be $15 to $20 according to Rocky8888 follow her on Twitter every call she has made except..."
          ],
          [
           "I started applying to jobs in Germany. Hopefully I can stay there 3 years..."
          ],
          [
           "Especially C.R.E.A.M...."
          ],
          [
           "&#x200B;\r\n\r\n..."
          ],
          [
           "Any recommended stocks to buy or keep on the look out for next week?..."
          ],
          [
           "CGC..."
          ],
          [
           "Dog you didn’t have to do him like that..."
          ],
          [
           "Got it!..."
          ],
          [
           "It's really eerie hearing them talk like it's a reddit rally..."
          ],
          [
           "Jaime diamond said this like 2 days ago in an interview. Where am I wrong exactly?..."
          ],
          [
           "Who cares? Screw ‘em...."
          ],
          [
           "One billion gagillion fafillion shabadabalo shabadamillion shabaling shabalomillion percent...."
          ],
          [
           "I learned the hard way in football.. in college you are playing against other players for their prid..."
          ],
          [
           "what does green have to do with Chinese tariffs?..."
          ],
          [
           "All proceeds from elected officials and those appointed performing official acts should go to the pu..."
          ],
          [
           "I'm on my way into work, all my coworkers are going to talk about is how Biden did things 100x worse..."
          ],
          [
           "Yea I don’t know why people keep saying denial, we’re -10% in the past 2 days, and more than 10% ext..."
          ],
          [
           "Is this legit ? What is your net worth ?..."
          ],
          [
           "Why stop there? Why not one million percent?..."
          ],
          [
           "The assumption underlying your statement is that MAGA possesses the capability and aptitude to learn..."
          ],
          [
           "Hold Tesla ??..."
          ],
          [
           "It’s chyyyynnnnnaaaaA..."
          ],
          [
           "As a person who owns silver etfs, I think it's laughable that media would try to pin a \"silver squee..."
          ],
          [
           "Can someone explain why he wants to lower rates? Is it so spur investment in thr US to build factori..."
          ],
          [
           "There are few values that are more American than criticizing America, the president, and the governm..."
          ],
          [
           "*That didn't happen.*\r\n\r\n*And if it did, it wasn't that bad.*\r\n\r\n*And if it was, that's not a big de..."
          ],
          [
           "Hey guys! I was doing some research on the graphite industry and I found this event that includes th..."
          ],
          [
           "Solid product, not too into the companies chart..."
          ],
          [
           "Yes, Trump and everyone who voted for him are intention-less and the people of Reddit know better th..."
          ],
          [
           "How long before Trump imposes capital controls to stop foreigners liquidating their US assets and re..."
          ],
          [
           "The only thing I want to squeeze is my hog with my diamond hands..."
          ],
          [
           "I've been in them. They're nothing special...."
          ],
          [
           "404 Brain not found. Hm... I get the feeling that these random nonsense tweets are AI generated in i..."
          ],
          [
           "i think people should look more closely at his economic advisors, there's 3 that have been advocatin..."
          ],
          [
           "Will it go up..."
          ],
          [
           "Trump is using “Art of the Deal” tactics.  \r\n\r\nXi is using “Art of War” tactics...."
          ],
          [
           "But have you also seen the one that made millions?..."
          ],
          [
           "No they won't raise tariffs anymore, not that they won't retaliate. Since US goods are effectively e..."
          ],
          [
           "Isn’t the RMB pegged somewhat to the dollar...."
          ],
          [
           "Remember when Conservatives though it was improper for a sitting President to own a peanut farm?..."
          ],
          [
           "You’re (rhetorical?) query seems to rest on the assumption they’re valuing small businesses/their ba..."
          ],
          [
           "Yes it's true. I bought myself silver earings..."
          ],
          [
           "I’m super into saunas and hate Russians, I think I’ll do alright..."
          ],
          [
           "Thank u for ur support..."
          ],
          [
           "To be fair  - Jerome Powell \"inflation is transitory\" ad nauseam is a total jabroni...."
          ],
          [
           "30% is incorrect. SPY is down about 15% from ATH, roughly level with its price a year ago...."
          ],
          [
           "question -- if the dollar is 'falling' relative to other currencies and the US stock market is flat ..."
          ],
          [
           "Nah, Mr. TurboTax remembers..."
          ],
          [
           "Peasant dont even know fartcoin is up  89% this week, 234% on the month..."
          ],
          [
           "You building a city skyline?..."
          ],
          [
           "one of them comes from the country which wrote the art of war and which has been around for 3,000 ye..."
          ],
          [
           "well French-German rivalry between 1870 and 1945 seems like a few generations to me..."
          ],
          [
           "You’ve got about a year at Wendy’s drive through window before you lose your job to AI. Make it coun..."
          ],
          [
           "Australia, we still need your nuclear submarines...."
          ],
          [
           "I was assuming he made a bunch but this is the first I'm hearing of it. The rich get richer. No wond..."
          ],
          [
           "And Miran. Them are the top two economic advisors the president has, all advocating for a weaker dol..."
          ],
          [
           "America is Cartman. A bullying loudmouth. Cartman without Stan, Kyle and Kenny would be a loner nobo..."
          ],
          [
           "Whoops, thanks...."
          ],
          [
           "If prison was acceptable for Martha Stewart then it is good enough for Trump. Lock him up...."
          ],
          [
           "Something about it always made me giggle...."
          ],
          [
           "High risk high beta portfolio but it's 50% unity 30% reddit and 20% amazon..."
          ],
          [
           " New phone , who das? -Xi..."
          ],
          [
           "So sayeth the Market Makers..."
          ],
          [
           "Exactly what I was ready to type vehemently...."
          ],
          [
           "  [Crypto (stockbuyvest.com)]() \r\n\r\n$BTCUSD $ETHUSD $ADAUSD $SHIBUSD $DOGEUSD $PEPEUSD..."
          ],
          [
           "I'm long. But down 50% on some of them so it's all relative.  But that is because lithium and other ..."
          ],
          [
           "Too bad I won't be going to Orlando this year for HHN even if the dollar probably drops to $1.30+ to..."
          ],
          [
           "Weak dollar was always the plan. So Trump can start manufacturing in the factories he didn't build f..."
          ],
          [
           "I decided to simplify my Roth as I've gotten crazy over the last couple of years. Soon to be 31F and..."
          ],
          [
           "Enter the ticker for which  you want the technical analysis done.\r\n\r\nIt will be posted as a tradingv..."
          ],
          [
           "So what happens if paper hands sell? Will the rest of us who HODL get fucked on our 100k..."
          ],
          [
           "its not just trump, is the whole party on this. i don't think pensions will exist at this rate...."
          ],
          [
           "trending up\r\n\r\n[/](/)..."
          ],
          [
           "28-3 vibes..."
          ],
          [
           "\"Good afternoon!\"..."
          ],
          [
           "what do you expect? it sells toilet papers....margin will shrink more if that industry comes here......"
          ],
          [
           "Trump isn't going after Powell here but this is definitely concerning...."
          ],
          [
           "Eli5 please..."
          ],
          [
           "This wasn’t a shakedown. It was a reversing of a chess move, as it had consequences that were intole..."
          ],
          [
           "He belongs in jail but that’s old news...."
          ],
          [
           "Just dm me..."
          ],
          [
           "![img](emote|t5_2th52|4271)..."
          ],
          [
           "|Ticker|Company|Allocation|\r\n|:-|:-|:-|\r\n|ACGL|Arch Capital Group|23.25%|\r\n|3306 (HKG)|JNBY Design|1..."
          ],
          [
           "I forgot to cancel selling my mutual funds, maybe it was the right call?..."
          ],
          [
           "What’s the significance of rising bond yields this week in comparison to when they were higher back ..."
          ],
          [
           "China also said it won't respond to any further tariff increases (probably because it's so high now ..."
          ],
          [
           "I don't think that would do it because he could snap them back any time...."
          ],
          [
           "Following closely, added them to my watchlist..."
          ],
          [
           "Hi, you're on r/Stocks, please make sure your post is related to stocks or the stockmarket or it wil..."
          ],
          [
           "It’ll stay flat probably..."
          ],
          [
           "Too late, I bought Silver and a shit ton of Miners last year...."
          ],
          [
           "He woke up a sleeping giant..."
          ],
          [
           "What’s yours? Since you’re so confident it’s pointless to pick stocks. Does your portfolio back up a..."
          ],
          [
           "Nope...."
          ],
          [
           "/\r\n\r\nMasterful gambit, Mr. Bessent..."
          ],
          [
           "That's a chart since April 6..."
          ],
          [
           "Plain spaghetti not so bad actually..."
          ],
          [
           "no state and local taxes..."
          ],
          [
           "Cant dad just work for another 50 years and give it to you again geez?..."
          ],
          [
           "Besides losing 3k in the market today I passed my chemistry test ![img](emote|t5_2th52|8883)![img](e..."
          ],
          [
           "Or as he calls it a day of love...."
          ],
          [
           "Position?..."
          ],
          [
           "Warrant gives you a right to purchase the share at a specified price, that right is valid till a spe..."
          ],
          [
           "Hi Grandma I didn't know you were on Reddit..."
          ],
          [
           "The US raises tariffs: “The US is shooting itself in the feet”\r\n\r\nChina raises tariffs: “The US won’..."
          ],
          [
           "Hey guys, I just got introduced to crypto stock trading by my friend. He was mentioning terms like C..."
          ],
          [
           "u/wutang that’s a badass name..."
          ],
          [
           "Isn’t Revelation a warning against fascism? It tracks the fall of empires pretty well..."
          ],
          [
           "&#x200B;\r\n\r\n[]()\r\n\r\n&#x200B;\r\n\r\n The Commitment of Traders (COT) report is a weekly publication issu..."
          ],
          [
           "The real question is: Why does he want to fire him?  What does he want to do after he's fired and wh..."
          ],
          [
           "How much HK hold?..."
          ],
          [
           "Even in Greek apps of all places they've been hyping up silver. What is going on lmao..."
          ],
          [
           "Ha ha haha. That was funny...."
          ],
          [
           "man i kinda wanna go to a rage room and break a few things to let it all out ![img](emote|t5_2th52|4..."
          ],
          [
           "lets see how they perform pre-market..."
          ],
          [
           "I call bullshit!..."
          ],
          [
           "Tesla and Amazon and Apple and Nvidia are in the QQQ. I would stick with the QQQ and not be overexpo..."
          ],
          [
           "Some here will enjoy themselves regardless...."
          ],
          [
           "How does this drop interest rates?..."
          ],
          [
           "Why not? Given the wise and steady guidance we've seen from the executive branch thus far, and the r..."
          ],
          [
           "Edit: Replied to wrong comment..."
          ],
          [
           "I currently own \r\n\r\n* TSLA\r\n* FB\r\n* BABA\r\n* BP\r\n* AUY\r\n\r\nI hoep this helps.  I plan to take more pro..."
          ],
          [
           "/..."
          ],
          [
           "Bull thesis comes down to buying a company with proven accretive organic growth with little acquisit..."
          ],
          [
           "It's a pretty unremarkable product, but you would easily be able to find the exact company if I said..."
          ],
          [
           "No. PERIOD...."
          ],
          [
           "$VXUS to answer your last question..."
          ],
          [
           "Tariffs coming or going? Who knows?..."
          ],
          [
           "Whoops i got it confused for DWAC..."
          ],
          [
           "Interesting.  Asking the most corrupt supreme court in our history to rewrite black letter law.  Hmm..."
          ],
          [
           "He must REALLY want Xi to call in to kiss his ass right? That's the only reason? Right? ..."
          ],
          [
           "He wants Xi to call him. So it looks like he has the control. Neither wants to call the other. As it..."
          ],
          [
           "Racist..."
          ],
          [
           "The will of in the*..."
          ],
          [
           "I goes we’ll see just who holds all the cards..."
          ],
          [
           "how the fuck do you bankrupt a casino, you just put some games up, maybe some hot girls, then just w..."
          ],
          [
           "That's how you get black market lol \r\n\r\nChina will always find a loophole for essential goods, and t..."
          ],
          [
           "US Treasuries were the safe haven, but now everyone's shifting to gold instead. A recession is comin..."
          ],
          [
           "Aurcana Silver. \r\n\r\nNevada Copper\r\n\r\nTrillion Energy...."
          ],
          [
           "I am all in..."
          ],
          [
           "The Art of the Deal…..."
          ],
          [
           "Lol fr..."
          ],
          [
           "Where can I read this?..."
          ],
          [
           "![img](emote|t5_2th52|31224)..."
          ]
         ],
         "hovertemplate": "category_name=中性<br>text_preview=%{customdata[0]}<extra></extra>",
         "legendgroup": "中性",
         "marker": {
          "color": "#7f7f7f",
          "opacity": 0.7,
          "size": 5,
          "symbol": "circle"
         },
         "mode": "markers",
         "name": "中性",
         "orientation": "v",
         "showlegend": true,
         "type": "scatter",
         "x": {
          "bdata": "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",
          "dtype": "f4"
         },
         "xaxis": "x",
         "y": {
          "bdata": "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",
          "dtype": "f4"
         },
         "yaxis": "y"
        },
        {
         "customdata": [
          [
           "Vision Marine Technologies Inc. is rewriting the watercraft rulebook. Their collaboration with Shaun..."
          ],
          [
           "Am I the only one seeing the cup & handle breakout here? 52 week high? Third Green Day? The pivot wa..."
          ],
          [
           "HLGN is $10. Hurry and catch it now before it shoots to the moon!..."
          ],
          [
           "So they went from saying redditors are bad for manipulating the market o praising silver??..."
          ],
          [
           "Hey our net worth match now, we can be friends!..."
          ],
          [
           "Other countries probably will go through a recession, but there is no reason at all that they would ..."
          ],
          [
           "if best buy can survive, target will survive...."
          ],
          [
           "I bought into silver companies and made a nice amount this morning...."
          ],
          [
           "This is a massive acquisition for them, adding to my watchlist!..."
          ],
          [
           "I think it’s gonna work itself out. I bought the doom and gloom at 4900 and deleted my trading app...."
          ],
          [
           "The cost of this was SPY going -20%. I’ll take it ![img](emote|t5_2th52|8882)..."
          ],
          [
           "$FDX - still in downtrend\r\n\r\n[/](/)\r\n\r\n&#x200B;\r\n\r\n$ICE - down\r\n\r\n&#x200B;\r\n\r\n[/](/)..."
          ],
          [
           "Lump sum tends to beat DCA but DCA minimizes risk. (/ <- good article with more data on this)  \r\nI d..."
          ],
          [
           "nice, good info, good post...."
          ],
          [
           "RKT is a crazy stock in general. Every dividend for the past 5 years has been a surprise. I just kee..."
          ],
          [
           "Yikes...\r\n\r\n\r\nThis shitshow continually surprises with shockingly bad news.\r\n\r\n\r\nI wonder if Congres..."
          ],
          [
           "Entered yesterday 2-9-24. Fortunately I entered the dip and not the upswing  28 cents to 87 cents.  ..."
          ],
          [
           "This is WRONG ANAL isis. TRUMP is VERY SMART by the TARIFFS becuz the reciyclical TARIFFS won't pass..."
          ],
          [
           "awesome..."
          ],
          [
           "The obvious can also be refreshing from CNBC: 'Fed’s Kashkari says rising bond yields, falling dolla..."
          ],
          [
           "Just stumbled upon some exciting news about Star Navigation Systems Group Ltd. (CSE: SNA) and their ..."
          ],
          [
           "So this is my fun portfolio atm\r\n\r\nRKLB - 42%\r\n\r\nUndisclosed company - 2%\r\n\r\nLumen 1.5%\r\n\r\nASTS 5.5%..."
          ],
          [
           "I need people to understand this man is NOT stupid. You want him to be so bad but he is NOT. Everyth..."
          ],
          [
           "Thanks for the heads up...."
          ],
          [
           "Nicely done..."
          ],
          [
           "I realized my typo after hitting submit, and there is no changing the title. Please forgive me! I am..."
          ],
          [
           "Short America right now..."
          ],
          [
           "cyberlux long term investment, you wont be upset..."
          ],
          [
           "Now this is some wholesome stuff more companies should be doing!..."
          ],
          [
           "Same. Back to break even after that last rip but think this thing can do another 50% easily..."
          ],
          [
           "Hey everyone, i was looking into a new company to the CSE Syntheia Corp and wanted to share some inf..."
          ],
          [
           "Perfect some might say...."
          ],
          [
           "My point is that all the culture war posturing is a freebie as it's all about fantasies and fairy ta..."
          ],
          [
           "Same hit it at 2.83..."
          ],
          [
           "I am so addicted to this market I can't wait for Monday..."
          ],
          [
           "If there is one lesson learned from economic policy during the last 100 years, it is that central ba..."
          ],
          [
           "I mean to be fair you would not catch me holding USDs. Either invest your money outside of the US, i..."
          ],
          [
           "3d modelling is only going to get more popular cool to see them getting in on it before its too late..."
          ],
          [
           "Really good one!!..."
          ],
          [
           "Etrade has a feed of news articles about how reddit is dumping GME for silver, and actual-reddit is ..."
          ],
          [
           "ELVA is the future, imagine going to any restaurant, coffee shop, driving your car or simply walking..."
          ],
          [
           "Mostly in MSTR calls, AAPL puts and GBTC long...."
          ],
          [
           "China: \"We are going to build our future on science and technology. we working on a new fusion techn..."
          ],
          [
           "Careful with puts. If they decide to pump the market you get killed on the puts from IV crush AND th..."
          ],
          [
           "r/CanadianInvestor would a better place to ask. \r\n\r\nThat being said, if you want to hold one fund, X..."
          ],
          [
           "You don’t buy when it’s green, u buy when it’s red..."
          ],
          [
           "After taking a brief look, I think I'll pass on this one. Good luck though but just out of curiosity..."
          ],
          [
           "Good..."
          ],
          [
           "[/](/)\r\n\r\nsome support after downtrend..."
          ],
          [
           "And they would thank him for such magnificent shit while doing so…...."
          ],
          [
           "Nice!..."
          ],
          [
           "Sold it all. Think I'm doing pretty good...."
          ],
          [
           "Lmao TSLA is green ![img](emote|t5_2th52|4271)..."
          ],
          [
           "Lithium has become a huge part of the clean energy shift, especially with electric cars gaining popu..."
          ],
          [
           "DOGE is going up today 153%..."
          ],
          [
           "Inflation expectations for year ahead highest since 1981 at 6.7%.\r\n\r\nBetter get out of cash...."
          ],
          [
           "I'm happy for him...."
          ],
          [
           "Recent strong stock performance, with capital showing confidence..."
          ],
          [
           "Sam’s is literally bulk wal mart lol. If anything cheaper quality to an extent. But mainly just left..."
          ],
          [
           "Thank God this week is over..."
          ],
          [
           "I mean, I'm making money on silver. But, ok...."
          ],
          [
           "$ATUS at a huge discount right now. Just CRUSHED earnings...."
          ],
          [
           "Go with the flow if you wanna make money..for the next 4 years...."
          ],
          [
           "And so far 50+ countries have come to the table and the EU has decided on zero for zero tariffs.  Th..."
          ],
          [
           "Yes :), but could see some additional demand on Wednesday once the liquidity draw has passed...."
          ],
          [
           "Save First Republic Bank. Let's show them the power of the people. Everyone says FRC is dead, but it..."
          ],
          [
           "I mean silver is used a lot in electronics and metals have been doing really well..."
          ],
          [
           "I'm doing well with miner stocks. \r\n(AUY) Yamana Gold Co\r\n& \r\n(PLG) Platinum Group Metals as a day t..."
          ],
          [
           "I think it’s way past time for me to remove my money from my bank..."
          ],
          [
           "Years ago I found Kate Rooney’s instagram.\r\n\r\nPrivate, but I requested anyway.\r\n\r\nWhen she got marri..."
          ],
          [
           "Euro to USD was 1.6 in 2007, now it’s 1.12. What crash?..."
          ],
          [
           "The Chinese likely hold these bonds in many different currencies.\r\n\r\nThe English aren’t likely dumpi..."
          ],
          [
           "Brazil's lithium reserves are significant, and if Atlas can successfully develop this, it could posi..."
          ],
          [
           "split the 200 between 100 on index funds (iShares and Vanguard are good options) and 100 on stocks t..."
          ],
          [
           "Much appreciated!..."
          ],
          [
           "Crazy how A meme coin is worth more than sliver lololololol (well at least how I value it ;) ) shit ..."
          ],
          [
           "I reckon it’s a short squeeze today..."
          ],
          [
           "Nah he's pretty spot on. Trump supporters are hated globally..."
          ],
          [
           "The agriculture sector should boom under this next administration too. Looks like a gem here..."
          ],
          [
           "China increases tariffs on US. \r\n\r\nMarket goes up. \r\n\r\nPerfectly Balanced...."
          ],
          [
           "OK, let me kick this off:\r\n\r\nLong (large exposure and long term hold) on Google, AMZN, Avgo, AMD (),..."
          ],
          [
           "Worse how?  We have STRONG evidence Trump doesn't want to destroy our economy since he put the 90 da..."
          ],
          [
           "Hey I have just done this. I have used 25 stocks the \"dividend Kings\" from 1992 till 2021. And I hav..."
          ],
          [
           "Maybe bc if the ice storms I think it’s going up again..."
          ],
          [
           "They're playing 3D chess, while the U.S. plays tic-tac-toe. Big W...."
          ],
          [
           "Donno why you’re getting downvoted. You’re not wrong IMO...."
          ],
          [
           "Expecting the PR to be dropped any day on the record date for TYDE dividend...."
          ],
          [
           "A prefect time to start divesting into more international funds then...."
          ],
          [
           "Vix 7% up even with SPY up\r\n\r\nA storms a brewing..."
          ],
          [
           "The Hunt brothers gave it a good try....\r\n\r\nHonestly as a long term investment though i like it, Gol..."
          ],
          [
           "Dimon stooping to real lows by selling furniture now..."
          ],
          [
           "Ask our SC how they feel about it: “Way to go Don.”..."
          ],
          [
           "Feel like this is kinda random for them. Nonetheless it's still a good acquisition..."
          ],
          [
           "A bigly beautiful extra digit..."
          ],
          [
           "Tbf, that first Walter Bloomberg rumor was spot on, just happened a few days later..."
          ],
          [
           "Stocks that are undervalued and potential to trend up\r\n\r\n [Undervalued (stockbuyvest.com)]()..."
          ],
          [
           "Perfectly normal and acceptable, BTW THEY MADE JIMMY CARTER SELL HIS PEANUT FARM!!!!..."
          ],
          [
           "Haven’t traded in like 3 days and my god life is so worth living. Watch a sunset from time to time b..."
          ],
          [
           "good reminder there’s a bigger game than just trade deficits…. only an idiot wouldn’t be looking at ..."
          ],
          [
           "if he leaves trade & economic matters alone for the rest of his mandate & focuses on shower pressure..."
          ],
          [
           "Good dd..."
          ],
          [
           "You see a glass that's 98% empty. \r\n\r\nI see a glass that's 2% full...."
          ],
          [
           "Exciting, I guess that’s one way to characterize what’s happening..."
          ],
          [
           "powell already said inflations from tariffs is transitory..."
          ],
          [
           "Things will get better soon. Once those 9 trans kids stop trying to play high school sports we will ..."
          ],
          [
           "NICE. Cannot complain...."
          ],
          [
           "So countries “begging to stop the tariffs” and “doing anything just for a deal” works both ways..."
          ],
          [
           "Invest now it is going to shoot up tomorrow..."
          ]
         ],
         "hovertemplate": "category_name=正面<br>text_preview=%{customdata[0]}<extra></extra>",
         "legendgroup": "正面",
         "marker": {
          "color": "#2ca02c",
          "opacity": 0.7,
          "size": 5,
          "symbol": "circle"
         },
         "mode": "markers",
         "name": "正面",
         "orientation": "v",
         "showlegend": true,
         "type": "scatter",
         "x": {
          "bdata": "faMeQ88kIEPcAhRDhe4jQ7XWE0N6xCVD/1sXQ6YtGUMoBxRDFyMcQ2SzHUNjoCdDeV0eQ//QG0MSKxVDn1cUQ592E0NBQSNDv3MUQ3g/JUPvSSRDiOQUQ4ujHEM8bRRDCzEUQyTlEkNErRRDlAUVQ8BMFENC1BtDXzQeQ0HpFENLViFDBA0UQ88zJEPkihdDjCMlQ2XEFUOieBtDRfIYQxgsJENrJRRDgbQdQ11JGUOcxhdDkLQXQ2/CG0McqBtDLCkTQ433FkNPwxNDh3scQ2P8E0M8KRdDTNUdQymCFUNKLRVDxbsUQ2C+GEO5mRRDvwkZQ+SDE0PCDhRDMaQlQyfaFUOHHiVDDNgYQ2dPFUP2kiVD84sVQwNEE0OloR1DRDcVQ841HkO/dhNDzVsUQ+MvFUMD1yFDHDEfQ1jAJEOH4hRDbzoiQw4pHUPfDh1Dg+wkQyR6FEPk2RRDRtwUQyAzFkNI2htDgsYSQ2XVE0MbVh5DLN4TQxn7FEPiIR1DddISQ69nHkNilhtDCukUQ2iJG0OGrxVDN1YXQxEDE0MD9xVDed8TQzUVE0OvHR5D",
          "dtype": "f4"
         },
         "xaxis": "x",
         "y": {
          "bdata": "A8fuQYz06kGBlBFC3jXmQRp0E0J569RBEnUHQsxz9EHORxNCisnxQRuY6EGsyEFCtIjoQU9X/kF5Yg9C5R4PQqY8C0LB8MhBM/8SQrVN2kGJreFBD+cRQguf60Hx0hVCfWURQsDdC0Kc2gtC1FEJQqzVEkK6EPJBudXzQQqFEEIw5tRBpuIRQrpK40HwVgFCXyjdQXI6FUKETPxBP13yQby35EFU8QtCtCboQcUeA0I7kQBCK/MFQud0/UFWBP5BO0kMQodZDEIj3g9C0r3zQU/2D0Ls9gJCT6DpQemLFkJiRBFCo9QQQl+q/kGh2g9CRxL0QWRoC0KMAghC4G/UQfHPEULOE9hBGJLyQc7MD0IDdeFBAwsTQjnMCkIZVOJB1WcPQqcj+UH5bApCJE8QQv7DEUKEnNBBhP/0QXPt1UHJkghCOlHOQWg9/EGgbutBF0nXQUfiCUIy7A1CwUMUQlLrC0LMi/5BQvUKQgtLB0LewvlBGY0UQk7JE0KE+wBC8WEMQqp3+EHuOP5Bx8wSQtes/UEJqhNCAxgCQsr2CEKKzRVChsgUQtFjCEIEoudB",
          "dtype": "f4"
         },
         "yaxis": "y"
        }
       ],
       "layout": {
        "legend": {
         "title": {
          "text": "情緒類別"
         },
         "tracegroupgap": 0
        },
        "template": {
         "data": {
          "bar": [
           {
            "error_x": {
             "color": "#2a3f5f"
            },
            "error_y": {
             "color": "#2a3f5f"
            },
            "marker": {
             "line": {
              "color": "#E5ECF6",
              "width": 0.5
             },
             "pattern": {
              "fillmode": "overlay",
              "size": 10,
              "solidity": 0.2
             }
            },
            "type": "bar"
           }
          ],
          "barpolar": [
           {
            "marker": {
             "line": {
              "color": "#E5ECF6",
              "width": 0.5
             },
             "pattern": {
              "fillmode": "overlay",
              "size": 10,
              "solidity": 0.2
             }
            },
            "type": "barpolar"
           }
          ],
          "carpet": [
           {
            "aaxis": {
             "endlinecolor": "#2a3f5f",
             "gridcolor": "white",
             "linecolor": "white",
             "minorgridcolor": "white",
             "startlinecolor": "#2a3f5f"
            },
            "baxis": {
             "endlinecolor": "#2a3f5f",
             "gridcolor": "white",
             "linecolor": "white",
             "minorgridcolor": "white",
             "startlinecolor": "#2a3f5f"
            },
            "type": "carpet"
           }
          ],
          "choropleth": [
           {
            "colorbar": {
             "outlinewidth": 0,
             "ticks": ""
            },
            "type": "choropleth"
           }
          ],
          "contour": [
           {
            "colorbar": {
             "outlinewidth": 0,
             "ticks": ""
            },
            "colorscale": [
             [
              0,
              "#0d0887"
             ],
             [
              0.1111111111111111,
              "#46039f"
             ],
             [
              0.2222222222222222,
              "#7201a8"
             ],
             [
              0.3333333333333333,
              "#9c179e"
             ],
             [
              0.4444444444444444,
              "#bd3786"
             ],
             [
              0.5555555555555556,
              "#d8576b"
             ],
             [
              0.6666666666666666,
              "#ed7953"
             ],
             [
              0.7777777777777778,
              "#fb9f3a"
             ],
             [
              0.8888888888888888,
              "#fdca26"
             ],
             [
              1,
              "#f0f921"
             ]
            ],
            "type": "contour"
           }
          ],
          "contourcarpet": [
           {
            "colorbar": {
             "outlinewidth": 0,
             "ticks": ""
            },
            "type": "contourcarpet"
           }
          ],
          "heatmap": [
           {
            "colorbar": {
             "outlinewidth": 0,
             "ticks": ""
            },
            "colorscale": [
             [
              0,
              "#0d0887"
             ],
             [
              0.1111111111111111,
              "#46039f"
             ],
             [
              0.2222222222222222,
              "#7201a8"
             ],
             [
              0.3333333333333333,
              "#9c179e"
             ],
             [
              0.4444444444444444,
              "#bd3786"
             ],
             [
              0.5555555555555556,
              "#d8576b"
             ],
             [
              0.6666666666666666,
              "#ed7953"
             ],
             [
              0.7777777777777778,
              "#fb9f3a"
             ],
             [
              0.8888888888888888,
              "#fdca26"
             ],
             [
              1,
              "#f0f921"
             ]
            ],
            "type": "heatmap"
           }
          ],
          "histogram": [
           {
            "marker": {
             "pattern": {
              "fillmode": "overlay",
              "size": 10,
              "solidity": 0.2
             }
            },
            "type": "histogram"
           }
          ],
          "histogram2d": [
           {
            "colorbar": {
             "outlinewidth": 0,
             "ticks": ""
            },
            "colorscale": [
             [
              0,
              "#0d0887"
             ],
             [
              0.1111111111111111,
              "#46039f"
             ],
             [
              0.2222222222222222,
              "#7201a8"
             ],
             [
              0.3333333333333333,
              "#9c179e"
             ],
             [
              0.4444444444444444,
              "#bd3786"
             ],
             [
              0.5555555555555556,
              "#d8576b"
             ],
             [
              0.6666666666666666,
              "#ed7953"
             ],
             [
              0.7777777777777778,
              "#fb9f3a"
             ],
             [
              0.8888888888888888,
              "#fdca26"
             ],
             [
              1,
              "#f0f921"
             ]
            ],
            "type": "histogram2d"
           }
          ],
          "histogram2dcontour": [
           {
            "colorbar": {
             "outlinewidth": 0,
             "ticks": ""
            },
            "colorscale": [
             [
              0,
              "#0d0887"
             ],
             [
              0.1111111111111111,
              "#46039f"
             ],
             [
              0.2222222222222222,
              "#7201a8"
             ],
             [
              0.3333333333333333,
              "#9c179e"
             ],
             [
              0.4444444444444444,
              "#bd3786"
             ],
             [
              0.5555555555555556,
              "#d8576b"
             ],
             [
              0.6666666666666666,
              "#ed7953"
             ],
             [
              0.7777777777777778,
              "#fb9f3a"
             ],
             [
              0.8888888888888888,
              "#fdca26"
             ],
             [
              1,
              "#f0f921"
             ]
            ],
            "type": "histogram2dcontour"
           }
          ],
          "mesh3d": [
           {
            "colorbar": {
             "outlinewidth": 0,
             "ticks": ""
            },
            "type": "mesh3d"
           }
          ],
          "parcoords": [
           {
            "line": {
             "colorbar": {
              "outlinewidth": 0,
              "ticks": ""
             }
            },
            "type": "parcoords"
           }
          ],
          "pie": [
           {
            "automargin": true,
            "type": "pie"
           }
          ],
          "scatter": [
           {
            "fillpattern": {
             "fillmode": "overlay",
             "size": 10,
             "solidity": 0.2
            },
            "type": "scatter"
           }
          ],
          "scatter3d": [
           {
            "line": {
             "colorbar": {
              "outlinewidth": 0,
              "ticks": ""
             }
            },
            "marker": {
             "colorbar": {
              "outlinewidth": 0,
              "ticks": ""
             }
            },
            "type": "scatter3d"
           }
          ],
          "scattercarpet": [
           {
            "marker": {
             "colorbar": {
              "outlinewidth": 0,
              "ticks": ""
             }
            },
            "type": "scattercarpet"
           }
          ],
          "scattergeo": [
           {
            "marker": {
             "colorbar": {
              "outlinewidth": 0,
              "ticks": ""
             }
            },
            "type": "scattergeo"
           }
          ],
          "scattergl": [
           {
            "marker": {
             "colorbar": {
              "outlinewidth": 0,
              "ticks": ""
             }
            },
            "type": "scattergl"
           }
          ],
          "scattermap": [
           {
            "marker": {
             "colorbar": {
              "outlinewidth": 0,
              "ticks": ""
             }
            },
            "type": "scattermap"
           }
          ],
          "scattermapbox": [
           {
            "marker": {
             "colorbar": {
              "outlinewidth": 0,
              "ticks": ""
             }
            },
            "type": "scattermapbox"
           }
          ],
          "scatterpolar": [
           {
            "marker": {
             "colorbar": {
              "outlinewidth": 0,
              "ticks": ""
             }
            },
            "type": "scatterpolar"
           }
          ],
          "scatterpolargl": [
           {
            "marker": {
             "colorbar": {
              "outlinewidth": 0,
              "ticks": ""
             }
            },
            "type": "scatterpolargl"
           }
          ],
          "scatterternary": [
           {
            "marker": {
             "colorbar": {
              "outlinewidth": 0,
              "ticks": ""
             }
            },
            "type": "scatterternary"
           }
          ],
          "surface": [
           {
            "colorbar": {
             "outlinewidth": 0,
             "ticks": ""
            },
            "colorscale": [
             [
              0,
              "#0d0887"
             ],
             [
              0.1111111111111111,
              "#46039f"
             ],
             [
              0.2222222222222222,
              "#7201a8"
             ],
             [
              0.3333333333333333,
              "#9c179e"
             ],
             [
              0.4444444444444444,
              "#bd3786"
             ],
             [
              0.5555555555555556,
              "#d8576b"
             ],
             [
              0.6666666666666666,
              "#ed7953"
             ],
             [
              0.7777777777777778,
              "#fb9f3a"
             ],
             [
              0.8888888888888888,
              "#fdca26"
             ],
             [
              1,
              "#f0f921"
             ]
            ],
            "type": "surface"
           }
          ],
          "table": [
           {
            "cells": {
             "fill": {
              "color": "#EBF0F8"
             },
             "line": {
              "color": "white"
             }
            },
            "header": {
             "fill": {
              "color": "#C8D4E3"
             },
             "line": {
              "color": "white"
             }
            },
            "type": "table"
           }
          ]
         },
         "layout": {
          "annotationdefaults": {
           "arrowcolor": "#2a3f5f",
           "arrowhead": 0,
           "arrowwidth": 1
          },
          "autotypenumbers": "strict",
          "coloraxis": {
           "colorbar": {
            "outlinewidth": 0,
            "ticks": ""
           }
          },
          "colorscale": {
           "diverging": [
            [
             0,
             "#8e0152"
            ],
            [
             0.1,
             "#c51b7d"
            ],
            [
             0.2,
             "#de77ae"
            ],
            [
             0.3,
             "#f1b6da"
            ],
            [
             0.4,
             "#fde0ef"
            ],
            [
             0.5,
             "#f7f7f7"
            ],
            [
             0.6,
             "#e6f5d0"
            ],
            [
             0.7,
             "#b8e186"
            ],
            [
             0.8,
             "#7fbc41"
            ],
            [
             0.9,
             "#4d9221"
            ],
            [
             1,
             "#276419"
            ]
           ],
           "sequential": [
            [
             0,
             "#0d0887"
            ],
            [
             0.1111111111111111,
             "#46039f"
            ],
            [
             0.2222222222222222,
             "#7201a8"
            ],
            [
             0.3333333333333333,
             "#9c179e"
            ],
            [
             0.4444444444444444,
             "#bd3786"
            ],
            [
             0.5555555555555556,
             "#d8576b"
            ],
            [
             0.6666666666666666,
             "#ed7953"
            ],
            [
             0.7777777777777778,
             "#fb9f3a"
            ],
            [
             0.8888888888888888,
             "#fdca26"
            ],
            [
             1,
             "#f0f921"
            ]
           ],
           "sequentialminus": [
            [
             0,
             "#0d0887"
            ],
            [
             0.1111111111111111,
             "#46039f"
            ],
            [
             0.2222222222222222,
             "#7201a8"
            ],
            [
             0.3333333333333333,
             "#9c179e"
            ],
            [
             0.4444444444444444,
             "#bd3786"
            ],
            [
             0.5555555555555556,
             "#d8576b"
            ],
            [
             0.6666666666666666,
             "#ed7953"
            ],
            [
             0.7777777777777778,
             "#fb9f3a"
            ],
            [
             0.8888888888888888,
             "#fdca26"
            ],
            [
             1,
             "#f0f921"
            ]
           ]
          },
          "colorway": [
           "#636efa",
           "#EF553B",
           "#00cc96",
           "#ab63fa",
           "#FFA15A",
           "#19d3f3",
           "#FF6692",
           "#B6E880",
           "#FF97FF",
           "#FECB52"
          ],
          "font": {
           "color": "#2a3f5f"
          },
          "geo": {
           "bgcolor": "white",
           "lakecolor": "white",
           "landcolor": "#E5ECF6",
           "showlakes": true,
           "showland": true,
           "subunitcolor": "white"
          },
          "hoverlabel": {
           "align": "left"
          },
          "hovermode": "closest",
          "mapbox": {
           "style": "light"
          },
          "paper_bgcolor": "white",
          "plot_bgcolor": "#E5ECF6",
          "polar": {
           "angularaxis": {
            "gridcolor": "white",
            "linecolor": "white",
            "ticks": ""
           },
           "bgcolor": "#E5ECF6",
           "radialaxis": {
            "gridcolor": "white",
            "linecolor": "white",
            "ticks": ""
           }
          },
          "scene": {
           "xaxis": {
            "backgroundcolor": "#E5ECF6",
            "gridcolor": "white",
            "gridwidth": 2,
            "linecolor": "white",
            "showbackground": true,
            "ticks": "",
            "zerolinecolor": "white"
           },
           "yaxis": {
            "backgroundcolor": "#E5ECF6",
            "gridcolor": "white",
            "gridwidth": 2,
            "linecolor": "white",
            "showbackground": true,
            "ticks": "",
            "zerolinecolor": "white"
           },
           "zaxis": {
            "backgroundcolor": "#E5ECF6",
            "gridcolor": "white",
            "gridwidth": 2,
            "linecolor": "white",
            "showbackground": true,
            "ticks": "",
            "zerolinecolor": "white"
           }
          },
          "shapedefaults": {
           "line": {
            "color": "#2a3f5f"
           }
          },
          "ternary": {
           "aaxis": {
            "gridcolor": "white",
            "linecolor": "white",
            "ticks": ""
           },
           "baxis": {
            "gridcolor": "white",
            "linecolor": "white",
            "ticks": ""
           },
           "bgcolor": "#E5ECF6",
           "caxis": {
            "gridcolor": "white",
            "linecolor": "white",
            "ticks": ""
           }
          },
          "title": {
           "x": 0.05
          },
          "xaxis": {
           "automargin": true,
           "gridcolor": "white",
           "linecolor": "white",
           "ticks": "",
           "title": {
            "standoff": 15
           },
           "zerolinecolor": "white",
           "zerolinewidth": 2
          },
          "yaxis": {
           "automargin": true,
           "gridcolor": "white",
           "linecolor": "white",
           "ticks": "",
           "title": {
            "standoff": 15
           },
           "zerolinecolor": "white",
           "zerolinewidth": 2
          }
         }
        },
        "title": {
         "text": "UMAP 降維後的文件分佈圖 (依情緒類別著色)"
        },
        "xaxis": {
         "anchor": "y",
         "domain": [
          0,
          1
         ],
         "title": {
          "text": "x"
         }
        },
        "yaxis": {
         "anchor": "x",
         "domain": [
          0,
          1
         ],
         "title": {
          "text": "y"
         }
        }
       }
      },
      "image/png": "[encoded data removed]"
     },
     "metadata": {},
     "output_type": "display_data"
    },
    {
     "name": "stdout",
     "output_type": "stream",
     "text": [
      "--------------------------------------------------\n"
     ]
    }
   ],
   "source": [
    "print(\"步驟 5: 使用 UMAP 降維與 Plotly 互動式視覺化...\")\n",
    "reducer = umap.UMAP(n_components=2, random_state=42, n_neighbors=20,\n",
    "min_dist=0.2)\n",
    "embedding = reducer.fit_transform(X_counts)\n",
    "\n",
    "plot_df = pd.DataFrame(embedding, columns=['x', 'y'])\n",
    "df.reset_index(drop=True, inplace=True)\n",
    "plot_df = pd.concat([plot_df, df[['category_name', 'text']]], axis=1)\n",
    "plot_df['text_preview'] = plot_df['text'].str[:100] + '...'\n",
    "\n",
    "fig = px.scatter(\n",
    "      plot_df,\n",
    "      x='x',\n",
    "      y='y',\n",
    "      color='category_name',\n",
    "      hover_data={'text_preview': True, 'x': False, 'y': False},\n",
    "      title='UMAP 降維後的文件分佈圖 (依情緒類別著色)',\n",
    "      color_discrete_map={'正面': '#2ca02c', '中性': '#7f7f7f', '負面':\n",
    "  '#d62728'}\n",
    "  )\n",
    "fig.update_traces(marker=dict(size=5, opacity=0.7))\n",
    "fig.update_layout(legend_title_text='情緒類別')\n",
    "fig.show()\n",
    "print(\"-\" * 50)"
   ]
  },
  {
   "cell_type": "markdown",
   "metadata": {},
   "source": [
    "### 額外的新視覺化：常見詞組 (Bigram) 分析\n",
    "圖表解讀：\n",
    "執行後產生的這張圖表，可以讓您非常清楚地看到在這些 Reddit貼文中，哪些「片語」或「術語」被大家最頻繁地提及。\n",
    "這對於理解社群的流行語、討論焦點以及情緒表達方式，提供了比單一詞彙更豐富的洞見。"
   ]
  },
  {
   "cell_type": "code",
   "execution_count": 172,
   "metadata": {},
   "outputs": [
    {
     "name": "stdout",
     "output_type": "stream",
     "text": [
      "額外視覺化：分析最常見的連續詞組 (Bigrams)...\n"
     ]
    },
    {
     "name": "stderr",
     "output_type": "stream",
     "text": [
      "C:\\Users\\user\\AppData\\Local\\Temp\\ipykernel_84\\269366564.py:28: FutureWarning:\n",
      "\n",
      "\n",
      "\n",
      "Passing `palette` without assigning `hue` is deprecated and will be removed in v0.14.0. Assign the `y` variable to `hue` and set `legend=False` for the same effect.\n",
      "\n",
      "\n"
     ]
    },
    {
     "data": {
      "image/png": "[encoded data removed]",
      "text/plain": [
       "<Figure size 1200x1000 with 1 Axes>"
      ]
     },
     "metadata": {},
     "output_type": "display_data"
    },
    {
     "name": "stdout",
     "output_type": "stream",
     "text": [
      "--------------------------------------------------\n"
     ]
    }
   ],
   "source": [
    "print(\"額外視覺化：分析最常見的連續詞組 (Bigrams)...\")\n",
    "\n",
    "# 建立一個新的 CountVectorizer，專門用來尋找 Bigrams\n",
    "# ngram_range=(2, 2) 表示我們只尋找由兩個詞組成的詞組\n",
    "bigram_vectorizer = CountVectorizer(\n",
    "    stop_words=list(STOPWORDS),\n",
    "    ngram_range=(2, 2),\n",
    "    min_df=5  # 同樣設定一個最小文件頻率，過濾掉太罕見的詞組\n",
    ")\n",
    "\n",
    "# 擬合資料並轉換\n",
    "X_bigrams = bigram_vectorizer.fit_transform(df['cleaned_text'])\n",
    "bigram_terms = bigram_vectorizer.get_feature_names_out()\n",
    "\n",
    "# 計算每個 Bigram 的總頻率\n",
    "bigram_frequencies = np.asarray(X_bigrams.sum(axis=0)).flatten()\n",
    "bigram_freq_df = pd.DataFrame({'bigram': bigram_terms, 'frequency':\n",
    "bigram_frequencies})\n",
    "\n",
    "# 排序並選出最常見的 Top 25 詞組\n",
    "sorted_bigram_df = bigram_freq_df.sort_values(by='frequency',\n",
    "ascending=False)\n",
    "top_25_bigrams = sorted_bigram_df.head(25)\n",
    "\n",
    "# 繪製水平長條圖 (Horizontal Bar Plot)\n",
    "# 水平長條圖更適合顯示較長的詞組標籤\n",
    "plt.figure(figsize=(12, 10))\n",
    "sns.barplot(x='frequency', y='bigram', data=top_25_bigrams,\n",
    "palette='plasma', orient='h')\n",
    "plt.title('最常見的 Top 25 詞組 (Bigrams)', fontsize=16)\n",
    "plt.xlabel('出現次數', fontsize=12)\n",
    "plt.ylabel('詞組', fontsize=12)\n",
    "plt.show()\n",
    "print(\"-\" * 50)"
   ]
  },
  {
   "cell_type": "markdown",
   "metadata": {},
   "source": [
    "# Phase 2"
   ]
  },
  {
   "cell_type": "code",
   "execution_count": null,
   "metadata": {},
   "outputs": [],
   "source": [
    "### Begin Assignment Here"
   ]
  }
 ],
 "metadata": {
  "kernelspec": {
   "display_name": "Python (dm2025lab)",
   "language": "python",
   "name": "dm2025lab"
  },
  "language_info": {
   "codemirror_mode": {
    "name": "ipython",
    "version": 3
   },
   "file_extension": ".py",
   "mimetype": "text/x-python",
   "name": "python",
   "nbconvert_exporter": "python",
   "pygments_lexer": "ipython3",
   "version": "3.11.0"
  }
 },
 "nbformat": 4,
 "nbformat_minor": 4
}
